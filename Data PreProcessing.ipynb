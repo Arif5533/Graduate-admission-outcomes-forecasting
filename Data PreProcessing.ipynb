{
  "cells": [
    {
      "cell_type": "code",
      "execution_count": 342,
      "metadata": {
        "colab": {
          "base_uri": "https://localhost:8080/"
        },
        "id": "sU96OLHy2Nb3",
        "outputId": "bb667a13-fff3-46f8-b153-78b20304d6d3"
      },
      "outputs": [
        {
          "output_type": "stream",
          "name": "stdout",
          "text": [
            "Drive already mounted at /content/drive; to attempt to forcibly remount, call drive.mount(\"/content/drive\", force_remount=True).\n"
          ]
        }
      ],
      "source": [
        "from google.colab import drive\n",
        "drive.mount('/content/drive')"
      ]
    },
    {
      "cell_type": "code",
      "execution_count": 343,
      "metadata": {
        "id": "7VK6BRR-3KNS"
      },
      "outputs": [],
      "source": [
        "import pandas as pd\n",
        "import numpy as np\n",
        "import matplotlib.pyplot as plt"
      ]
    },
    {
      "cell_type": "code",
      "execution_count": 344,
      "metadata": {
        "colab": {
          "base_uri": "https://localhost:8080/",
          "height": 423
        },
        "id": "h1rLD0Te3SNz",
        "outputId": "1bd689e7-d343-442a-dca3-2a709960d4d9"
      },
      "outputs": [
        {
          "output_type": "execute_result",
          "data": {
            "text/plain": [
              "     Serial No  GRE Score          Toefl Score  Ielts Score Department  CGPA  \\\n",
              "0            1                299         105.0         7.5        cse  3.74   \n",
              "1            2                303          98.0           7        cse  3.68   \n",
              "2            3                300          98.0           7        cse  3.68   \n",
              "3            4                310          98.0           7        cse  3.78   \n",
              "4            5                306          98.0           7        cse  3.00   \n",
              "..         ...                ...           ...         ...        ...   ...   \n",
              "380        381                323         105.0         7.5        cse  3.78   \n",
              "381        382                320         105.0         7.5        cse  3.65   \n",
              "382        383                317         114.0           8        cse  3.81   \n",
              "383        384                324          94.0         6.5        cse  3.68   \n",
              "384        385                322         101.0           7        cse  3.00   \n",
              "\n",
              "     Research  Project  Work Experience   University Ranking  \\\n",
              "0           0        1               3.0                 250   \n",
              "1           0        0               0.0                 250   \n",
              "2           0        0               1.0                 250   \n",
              "3           1        1               2.0                 133   \n",
              "4           0        3               1.0                 133   \n",
              "..        ...      ...               ...                 ...   \n",
              "380         0        0               0.0                  67   \n",
              "381         0        0               3.0                  67   \n",
              "382         0        1               2.0                  67   \n",
              "383         0        0               2.5                  67   \n",
              "384         0        0               0.0                  67   \n",
              "\n",
              "     University rating  \n",
              "0                    2  \n",
              "1                    2  \n",
              "2                    2  \n",
              "3                    3  \n",
              "4                    3  \n",
              "..                 ...  \n",
              "380                  4  \n",
              "381                  4  \n",
              "382                  4  \n",
              "383                  4  \n",
              "384                  4  \n",
              "\n",
              "[385 rows x 11 columns]"
            ],
            "text/html": [
              "\n",
              "  <div id=\"df-7aef77ca-670b-48af-af5b-d5a8c45cbbfa\" class=\"colab-df-container\">\n",
              "    <div>\n",
              "<style scoped>\n",
              "    .dataframe tbody tr th:only-of-type {\n",
              "        vertical-align: middle;\n",
              "    }\n",
              "\n",
              "    .dataframe tbody tr th {\n",
              "        vertical-align: top;\n",
              "    }\n",
              "\n",
              "    .dataframe thead th {\n",
              "        text-align: right;\n",
              "    }\n",
              "</style>\n",
              "<table border=\"1\" class=\"dataframe\">\n",
              "  <thead>\n",
              "    <tr style=\"text-align: right;\">\n",
              "      <th></th>\n",
              "      <th>Serial No</th>\n",
              "      <th>GRE Score</th>\n",
              "      <th>Toefl Score</th>\n",
              "      <th>Ielts Score</th>\n",
              "      <th>Department</th>\n",
              "      <th>CGPA</th>\n",
              "      <th>Research</th>\n",
              "      <th>Project</th>\n",
              "      <th>Work Experience</th>\n",
              "      <th>University Ranking</th>\n",
              "      <th>University rating</th>\n",
              "    </tr>\n",
              "  </thead>\n",
              "  <tbody>\n",
              "    <tr>\n",
              "      <th>0</th>\n",
              "      <td>1</td>\n",
              "      <td>299</td>\n",
              "      <td>105.0</td>\n",
              "      <td>7.5</td>\n",
              "      <td>cse</td>\n",
              "      <td>3.74</td>\n",
              "      <td>0</td>\n",
              "      <td>1</td>\n",
              "      <td>3.0</td>\n",
              "      <td>250</td>\n",
              "      <td>2</td>\n",
              "    </tr>\n",
              "    <tr>\n",
              "      <th>1</th>\n",
              "      <td>2</td>\n",
              "      <td>303</td>\n",
              "      <td>98.0</td>\n",
              "      <td>7</td>\n",
              "      <td>cse</td>\n",
              "      <td>3.68</td>\n",
              "      <td>0</td>\n",
              "      <td>0</td>\n",
              "      <td>0.0</td>\n",
              "      <td>250</td>\n",
              "      <td>2</td>\n",
              "    </tr>\n",
              "    <tr>\n",
              "      <th>2</th>\n",
              "      <td>3</td>\n",
              "      <td>300</td>\n",
              "      <td>98.0</td>\n",
              "      <td>7</td>\n",
              "      <td>cse</td>\n",
              "      <td>3.68</td>\n",
              "      <td>0</td>\n",
              "      <td>0</td>\n",
              "      <td>1.0</td>\n",
              "      <td>250</td>\n",
              "      <td>2</td>\n",
              "    </tr>\n",
              "    <tr>\n",
              "      <th>3</th>\n",
              "      <td>4</td>\n",
              "      <td>310</td>\n",
              "      <td>98.0</td>\n",
              "      <td>7</td>\n",
              "      <td>cse</td>\n",
              "      <td>3.78</td>\n",
              "      <td>1</td>\n",
              "      <td>1</td>\n",
              "      <td>2.0</td>\n",
              "      <td>133</td>\n",
              "      <td>3</td>\n",
              "    </tr>\n",
              "    <tr>\n",
              "      <th>4</th>\n",
              "      <td>5</td>\n",
              "      <td>306</td>\n",
              "      <td>98.0</td>\n",
              "      <td>7</td>\n",
              "      <td>cse</td>\n",
              "      <td>3.00</td>\n",
              "      <td>0</td>\n",
              "      <td>3</td>\n",
              "      <td>1.0</td>\n",
              "      <td>133</td>\n",
              "      <td>3</td>\n",
              "    </tr>\n",
              "    <tr>\n",
              "      <th>...</th>\n",
              "      <td>...</td>\n",
              "      <td>...</td>\n",
              "      <td>...</td>\n",
              "      <td>...</td>\n",
              "      <td>...</td>\n",
              "      <td>...</td>\n",
              "      <td>...</td>\n",
              "      <td>...</td>\n",
              "      <td>...</td>\n",
              "      <td>...</td>\n",
              "      <td>...</td>\n",
              "    </tr>\n",
              "    <tr>\n",
              "      <th>380</th>\n",
              "      <td>381</td>\n",
              "      <td>323</td>\n",
              "      <td>105.0</td>\n",
              "      <td>7.5</td>\n",
              "      <td>cse</td>\n",
              "      <td>3.78</td>\n",
              "      <td>0</td>\n",
              "      <td>0</td>\n",
              "      <td>0.0</td>\n",
              "      <td>67</td>\n",
              "      <td>4</td>\n",
              "    </tr>\n",
              "    <tr>\n",
              "      <th>381</th>\n",
              "      <td>382</td>\n",
              "      <td>320</td>\n",
              "      <td>105.0</td>\n",
              "      <td>7.5</td>\n",
              "      <td>cse</td>\n",
              "      <td>3.65</td>\n",
              "      <td>0</td>\n",
              "      <td>0</td>\n",
              "      <td>3.0</td>\n",
              "      <td>67</td>\n",
              "      <td>4</td>\n",
              "    </tr>\n",
              "    <tr>\n",
              "      <th>382</th>\n",
              "      <td>383</td>\n",
              "      <td>317</td>\n",
              "      <td>114.0</td>\n",
              "      <td>8</td>\n",
              "      <td>cse</td>\n",
              "      <td>3.81</td>\n",
              "      <td>0</td>\n",
              "      <td>1</td>\n",
              "      <td>2.0</td>\n",
              "      <td>67</td>\n",
              "      <td>4</td>\n",
              "    </tr>\n",
              "    <tr>\n",
              "      <th>383</th>\n",
              "      <td>384</td>\n",
              "      <td>324</td>\n",
              "      <td>94.0</td>\n",
              "      <td>6.5</td>\n",
              "      <td>cse</td>\n",
              "      <td>3.68</td>\n",
              "      <td>0</td>\n",
              "      <td>0</td>\n",
              "      <td>2.5</td>\n",
              "      <td>67</td>\n",
              "      <td>4</td>\n",
              "    </tr>\n",
              "    <tr>\n",
              "      <th>384</th>\n",
              "      <td>385</td>\n",
              "      <td>322</td>\n",
              "      <td>101.0</td>\n",
              "      <td>7</td>\n",
              "      <td>cse</td>\n",
              "      <td>3.00</td>\n",
              "      <td>0</td>\n",
              "      <td>0</td>\n",
              "      <td>0.0</td>\n",
              "      <td>67</td>\n",
              "      <td>4</td>\n",
              "    </tr>\n",
              "  </tbody>\n",
              "</table>\n",
              "<p>385 rows × 11 columns</p>\n",
              "</div>\n",
              "    <div class=\"colab-df-buttons\">\n",
              "\n",
              "  <div class=\"colab-df-container\">\n",
              "    <button class=\"colab-df-convert\" onclick=\"convertToInteractive('df-7aef77ca-670b-48af-af5b-d5a8c45cbbfa')\"\n",
              "            title=\"Convert this dataframe to an interactive table.\"\n",
              "            style=\"display:none;\">\n",
              "\n",
              "  <svg xmlns=\"http://www.w3.org/2000/svg\" height=\"24px\" viewBox=\"0 -960 960 960\">\n",
              "    <path d=\"M120-120v-720h720v720H120Zm60-500h600v-160H180v160Zm220 220h160v-160H400v160Zm0 220h160v-160H400v160ZM180-400h160v-160H180v160Zm440 0h160v-160H620v160ZM180-180h160v-160H180v160Zm440 0h160v-160H620v160Z\"/>\n",
              "  </svg>\n",
              "    </button>\n",
              "\n",
              "  <style>\n",
              "    .colab-df-container {\n",
              "      display:flex;\n",
              "      gap: 12px;\n",
              "    }\n",
              "\n",
              "    .colab-df-convert {\n",
              "      background-color: #E8F0FE;\n",
              "      border: none;\n",
              "      border-radius: 50%;\n",
              "      cursor: pointer;\n",
              "      display: none;\n",
              "      fill: #1967D2;\n",
              "      height: 32px;\n",
              "      padding: 0 0 0 0;\n",
              "      width: 32px;\n",
              "    }\n",
              "\n",
              "    .colab-df-convert:hover {\n",
              "      background-color: #E2EBFA;\n",
              "      box-shadow: 0px 1px 2px rgba(60, 64, 67, 0.3), 0px 1px 3px 1px rgba(60, 64, 67, 0.15);\n",
              "      fill: #174EA6;\n",
              "    }\n",
              "\n",
              "    .colab-df-buttons div {\n",
              "      margin-bottom: 4px;\n",
              "    }\n",
              "\n",
              "    [theme=dark] .colab-df-convert {\n",
              "      background-color: #3B4455;\n",
              "      fill: #D2E3FC;\n",
              "    }\n",
              "\n",
              "    [theme=dark] .colab-df-convert:hover {\n",
              "      background-color: #434B5C;\n",
              "      box-shadow: 0px 1px 3px 1px rgba(0, 0, 0, 0.15);\n",
              "      filter: drop-shadow(0px 1px 2px rgba(0, 0, 0, 0.3));\n",
              "      fill: #FFFFFF;\n",
              "    }\n",
              "  </style>\n",
              "\n",
              "    <script>\n",
              "      const buttonEl =\n",
              "        document.querySelector('#df-7aef77ca-670b-48af-af5b-d5a8c45cbbfa button.colab-df-convert');\n",
              "      buttonEl.style.display =\n",
              "        google.colab.kernel.accessAllowed ? 'block' : 'none';\n",
              "\n",
              "      async function convertToInteractive(key) {\n",
              "        const element = document.querySelector('#df-7aef77ca-670b-48af-af5b-d5a8c45cbbfa');\n",
              "        const dataTable =\n",
              "          await google.colab.kernel.invokeFunction('convertToInteractive',\n",
              "                                                    [key], {});\n",
              "        if (!dataTable) return;\n",
              "\n",
              "        const docLinkHtml = 'Like what you see? Visit the ' +\n",
              "          '<a target=\"_blank\" href=https://colab.research.google.com/notebooks/data_table.ipynb>data table notebook</a>'\n",
              "          + ' to learn more about interactive tables.';\n",
              "        element.innerHTML = '';\n",
              "        dataTable['output_type'] = 'display_data';\n",
              "        await google.colab.output.renderOutput(dataTable, element);\n",
              "        const docLink = document.createElement('div');\n",
              "        docLink.innerHTML = docLinkHtml;\n",
              "        element.appendChild(docLink);\n",
              "      }\n",
              "    </script>\n",
              "  </div>\n",
              "\n",
              "\n",
              "<div id=\"df-a10b4ebe-87d5-414e-9cfa-52425517374c\">\n",
              "  <button class=\"colab-df-quickchart\" onclick=\"quickchart('df-a10b4ebe-87d5-414e-9cfa-52425517374c')\"\n",
              "            title=\"Suggest charts\"\n",
              "            style=\"display:none;\">\n",
              "\n",
              "<svg xmlns=\"http://www.w3.org/2000/svg\" height=\"24px\"viewBox=\"0 0 24 24\"\n",
              "     width=\"24px\">\n",
              "    <g>\n",
              "        <path d=\"M19 3H5c-1.1 0-2 .9-2 2v14c0 1.1.9 2 2 2h14c1.1 0 2-.9 2-2V5c0-1.1-.9-2-2-2zM9 17H7v-7h2v7zm4 0h-2V7h2v10zm4 0h-2v-4h2v4z\"/>\n",
              "    </g>\n",
              "</svg>\n",
              "  </button>\n",
              "\n",
              "<style>\n",
              "  .colab-df-quickchart {\n",
              "      --bg-color: #E8F0FE;\n",
              "      --fill-color: #1967D2;\n",
              "      --hover-bg-color: #E2EBFA;\n",
              "      --hover-fill-color: #174EA6;\n",
              "      --disabled-fill-color: #AAA;\n",
              "      --disabled-bg-color: #DDD;\n",
              "  }\n",
              "\n",
              "  [theme=dark] .colab-df-quickchart {\n",
              "      --bg-color: #3B4455;\n",
              "      --fill-color: #D2E3FC;\n",
              "      --hover-bg-color: #434B5C;\n",
              "      --hover-fill-color: #FFFFFF;\n",
              "      --disabled-bg-color: #3B4455;\n",
              "      --disabled-fill-color: #666;\n",
              "  }\n",
              "\n",
              "  .colab-df-quickchart {\n",
              "    background-color: var(--bg-color);\n",
              "    border: none;\n",
              "    border-radius: 50%;\n",
              "    cursor: pointer;\n",
              "    display: none;\n",
              "    fill: var(--fill-color);\n",
              "    height: 32px;\n",
              "    padding: 0;\n",
              "    width: 32px;\n",
              "  }\n",
              "\n",
              "  .colab-df-quickchart:hover {\n",
              "    background-color: var(--hover-bg-color);\n",
              "    box-shadow: 0 1px 2px rgba(60, 64, 67, 0.3), 0 1px 3px 1px rgba(60, 64, 67, 0.15);\n",
              "    fill: var(--button-hover-fill-color);\n",
              "  }\n",
              "\n",
              "  .colab-df-quickchart-complete:disabled,\n",
              "  .colab-df-quickchart-complete:disabled:hover {\n",
              "    background-color: var(--disabled-bg-color);\n",
              "    fill: var(--disabled-fill-color);\n",
              "    box-shadow: none;\n",
              "  }\n",
              "\n",
              "  .colab-df-spinner {\n",
              "    border: 2px solid var(--fill-color);\n",
              "    border-color: transparent;\n",
              "    border-bottom-color: var(--fill-color);\n",
              "    animation:\n",
              "      spin 1s steps(1) infinite;\n",
              "  }\n",
              "\n",
              "  @keyframes spin {\n",
              "    0% {\n",
              "      border-color: transparent;\n",
              "      border-bottom-color: var(--fill-color);\n",
              "      border-left-color: var(--fill-color);\n",
              "    }\n",
              "    20% {\n",
              "      border-color: transparent;\n",
              "      border-left-color: var(--fill-color);\n",
              "      border-top-color: var(--fill-color);\n",
              "    }\n",
              "    30% {\n",
              "      border-color: transparent;\n",
              "      border-left-color: var(--fill-color);\n",
              "      border-top-color: var(--fill-color);\n",
              "      border-right-color: var(--fill-color);\n",
              "    }\n",
              "    40% {\n",
              "      border-color: transparent;\n",
              "      border-right-color: var(--fill-color);\n",
              "      border-top-color: var(--fill-color);\n",
              "    }\n",
              "    60% {\n",
              "      border-color: transparent;\n",
              "      border-right-color: var(--fill-color);\n",
              "    }\n",
              "    80% {\n",
              "      border-color: transparent;\n",
              "      border-right-color: var(--fill-color);\n",
              "      border-bottom-color: var(--fill-color);\n",
              "    }\n",
              "    90% {\n",
              "      border-color: transparent;\n",
              "      border-bottom-color: var(--fill-color);\n",
              "    }\n",
              "  }\n",
              "</style>\n",
              "\n",
              "  <script>\n",
              "    async function quickchart(key) {\n",
              "      const quickchartButtonEl =\n",
              "        document.querySelector('#' + key + ' button');\n",
              "      quickchartButtonEl.disabled = true;  // To prevent multiple clicks.\n",
              "      quickchartButtonEl.classList.add('colab-df-spinner');\n",
              "      try {\n",
              "        const charts = await google.colab.kernel.invokeFunction(\n",
              "            'suggestCharts', [key], {});\n",
              "      } catch (error) {\n",
              "        console.error('Error during call to suggestCharts:', error);\n",
              "      }\n",
              "      quickchartButtonEl.classList.remove('colab-df-spinner');\n",
              "      quickchartButtonEl.classList.add('colab-df-quickchart-complete');\n",
              "    }\n",
              "    (() => {\n",
              "      let quickchartButtonEl =\n",
              "        document.querySelector('#df-a10b4ebe-87d5-414e-9cfa-52425517374c button');\n",
              "      quickchartButtonEl.style.display =\n",
              "        google.colab.kernel.accessAllowed ? 'block' : 'none';\n",
              "    })();\n",
              "  </script>\n",
              "</div>\n",
              "    </div>\n",
              "  </div>\n"
            ]
          },
          "metadata": {},
          "execution_count": 344
        }
      ],
      "source": [
        "path = path =\"/content/drive/MyDrive/greproject/trial.csv\"\n",
        "df=pd.read_csv(path)\n",
        "df\n"
      ]
    },
    {
      "cell_type": "code",
      "execution_count": 345,
      "metadata": {
        "colab": {
          "base_uri": "https://localhost:8080/",
          "height": 394
        },
        "id": "-vuZ1U964wqJ",
        "outputId": "d066298b-6425-4171-fc50-a6cc021840cd"
      },
      "outputs": [
        {
          "output_type": "execute_result",
          "data": {
            "text/plain": [
              "         Serial No  GRE Score          Toefl Score  Ielts Score Department  \\\n",
              "count   385.000000         385.000000    385.000000         385        385   \n",
              "unique         NaN                NaN           NaN          11          6   \n",
              "top            NaN                NaN           NaN           7        cse   \n",
              "freq           NaN                NaN           NaN         110        206   \n",
              "mean    193.000000         313.384416     99.681818         NaN        NaN   \n",
              "std     111.284171          10.225976     13.405706         NaN        NaN   \n",
              "min       1.000000         285.000000      6.500000         NaN        NaN   \n",
              "25%      97.000000         307.000000     97.000000         NaN        NaN   \n",
              "50%     193.000000         315.000000    101.000000         NaN        NaN   \n",
              "75%     289.000000         321.000000    108.000000         NaN        NaN   \n",
              "max     385.000000         337.000000    120.000000         NaN        NaN   \n",
              "\n",
              "              CGPA    Research     Project  Work Experience   \\\n",
              "count   385.000000  385.000000  385.000000        385.000000   \n",
              "unique         NaN         NaN         NaN               NaN   \n",
              "top            NaN         NaN         NaN               NaN   \n",
              "freq           NaN         NaN         NaN               NaN   \n",
              "mean      3.432987    0.254545    0.966234          1.212987   \n",
              "std       0.284764    0.712709    1.711299          1.590364   \n",
              "min       2.000000    0.000000    0.000000          0.000000   \n",
              "25%       3.250000    0.000000    0.000000          0.000000   \n",
              "50%       3.460000    0.000000    0.000000          0.400000   \n",
              "75%       3.650000    0.000000    1.000000          2.000000   \n",
              "max       3.970000    5.000000   12.000000         10.000000   \n",
              "\n",
              "        University Ranking  University rating  \n",
              "count           385.000000         385.000000  \n",
              "unique                 NaN                NaN  \n",
              "top                    NaN                NaN  \n",
              "freq                   NaN                NaN  \n",
              "mean            131.402597           3.150649  \n",
              "std              98.027029           0.988557  \n",
              "min               1.000000           1.000000  \n",
              "25%              53.000000           2.000000  \n",
              "50%             105.000000           3.000000  \n",
              "75%             209.000000           4.000000  \n",
              "max             332.000000           4.000000  "
            ],
            "text/html": [
              "\n",
              "  <div id=\"df-a3833208-f269-4da2-b4ce-c895cc4f51ca\" class=\"colab-df-container\">\n",
              "    <div>\n",
              "<style scoped>\n",
              "    .dataframe tbody tr th:only-of-type {\n",
              "        vertical-align: middle;\n",
              "    }\n",
              "\n",
              "    .dataframe tbody tr th {\n",
              "        vertical-align: top;\n",
              "    }\n",
              "\n",
              "    .dataframe thead th {\n",
              "        text-align: right;\n",
              "    }\n",
              "</style>\n",
              "<table border=\"1\" class=\"dataframe\">\n",
              "  <thead>\n",
              "    <tr style=\"text-align: right;\">\n",
              "      <th></th>\n",
              "      <th>Serial No</th>\n",
              "      <th>GRE Score</th>\n",
              "      <th>Toefl Score</th>\n",
              "      <th>Ielts Score</th>\n",
              "      <th>Department</th>\n",
              "      <th>CGPA</th>\n",
              "      <th>Research</th>\n",
              "      <th>Project</th>\n",
              "      <th>Work Experience</th>\n",
              "      <th>University Ranking</th>\n",
              "      <th>University rating</th>\n",
              "    </tr>\n",
              "  </thead>\n",
              "  <tbody>\n",
              "    <tr>\n",
              "      <th>count</th>\n",
              "      <td>385.000000</td>\n",
              "      <td>385.000000</td>\n",
              "      <td>385.000000</td>\n",
              "      <td>385</td>\n",
              "      <td>385</td>\n",
              "      <td>385.000000</td>\n",
              "      <td>385.000000</td>\n",
              "      <td>385.000000</td>\n",
              "      <td>385.000000</td>\n",
              "      <td>385.000000</td>\n",
              "      <td>385.000000</td>\n",
              "    </tr>\n",
              "    <tr>\n",
              "      <th>unique</th>\n",
              "      <td>NaN</td>\n",
              "      <td>NaN</td>\n",
              "      <td>NaN</td>\n",
              "      <td>11</td>\n",
              "      <td>6</td>\n",
              "      <td>NaN</td>\n",
              "      <td>NaN</td>\n",
              "      <td>NaN</td>\n",
              "      <td>NaN</td>\n",
              "      <td>NaN</td>\n",
              "      <td>NaN</td>\n",
              "    </tr>\n",
              "    <tr>\n",
              "      <th>top</th>\n",
              "      <td>NaN</td>\n",
              "      <td>NaN</td>\n",
              "      <td>NaN</td>\n",
              "      <td>7</td>\n",
              "      <td>cse</td>\n",
              "      <td>NaN</td>\n",
              "      <td>NaN</td>\n",
              "      <td>NaN</td>\n",
              "      <td>NaN</td>\n",
              "      <td>NaN</td>\n",
              "      <td>NaN</td>\n",
              "    </tr>\n",
              "    <tr>\n",
              "      <th>freq</th>\n",
              "      <td>NaN</td>\n",
              "      <td>NaN</td>\n",
              "      <td>NaN</td>\n",
              "      <td>110</td>\n",
              "      <td>206</td>\n",
              "      <td>NaN</td>\n",
              "      <td>NaN</td>\n",
              "      <td>NaN</td>\n",
              "      <td>NaN</td>\n",
              "      <td>NaN</td>\n",
              "      <td>NaN</td>\n",
              "    </tr>\n",
              "    <tr>\n",
              "      <th>mean</th>\n",
              "      <td>193.000000</td>\n",
              "      <td>313.384416</td>\n",
              "      <td>99.681818</td>\n",
              "      <td>NaN</td>\n",
              "      <td>NaN</td>\n",
              "      <td>3.432987</td>\n",
              "      <td>0.254545</td>\n",
              "      <td>0.966234</td>\n",
              "      <td>1.212987</td>\n",
              "      <td>131.402597</td>\n",
              "      <td>3.150649</td>\n",
              "    </tr>\n",
              "    <tr>\n",
              "      <th>std</th>\n",
              "      <td>111.284171</td>\n",
              "      <td>10.225976</td>\n",
              "      <td>13.405706</td>\n",
              "      <td>NaN</td>\n",
              "      <td>NaN</td>\n",
              "      <td>0.284764</td>\n",
              "      <td>0.712709</td>\n",
              "      <td>1.711299</td>\n",
              "      <td>1.590364</td>\n",
              "      <td>98.027029</td>\n",
              "      <td>0.988557</td>\n",
              "    </tr>\n",
              "    <tr>\n",
              "      <th>min</th>\n",
              "      <td>1.000000</td>\n",
              "      <td>285.000000</td>\n",
              "      <td>6.500000</td>\n",
              "      <td>NaN</td>\n",
              "      <td>NaN</td>\n",
              "      <td>2.000000</td>\n",
              "      <td>0.000000</td>\n",
              "      <td>0.000000</td>\n",
              "      <td>0.000000</td>\n",
              "      <td>1.000000</td>\n",
              "      <td>1.000000</td>\n",
              "    </tr>\n",
              "    <tr>\n",
              "      <th>25%</th>\n",
              "      <td>97.000000</td>\n",
              "      <td>307.000000</td>\n",
              "      <td>97.000000</td>\n",
              "      <td>NaN</td>\n",
              "      <td>NaN</td>\n",
              "      <td>3.250000</td>\n",
              "      <td>0.000000</td>\n",
              "      <td>0.000000</td>\n",
              "      <td>0.000000</td>\n",
              "      <td>53.000000</td>\n",
              "      <td>2.000000</td>\n",
              "    </tr>\n",
              "    <tr>\n",
              "      <th>50%</th>\n",
              "      <td>193.000000</td>\n",
              "      <td>315.000000</td>\n",
              "      <td>101.000000</td>\n",
              "      <td>NaN</td>\n",
              "      <td>NaN</td>\n",
              "      <td>3.460000</td>\n",
              "      <td>0.000000</td>\n",
              "      <td>0.000000</td>\n",
              "      <td>0.400000</td>\n",
              "      <td>105.000000</td>\n",
              "      <td>3.000000</td>\n",
              "    </tr>\n",
              "    <tr>\n",
              "      <th>75%</th>\n",
              "      <td>289.000000</td>\n",
              "      <td>321.000000</td>\n",
              "      <td>108.000000</td>\n",
              "      <td>NaN</td>\n",
              "      <td>NaN</td>\n",
              "      <td>3.650000</td>\n",
              "      <td>0.000000</td>\n",
              "      <td>1.000000</td>\n",
              "      <td>2.000000</td>\n",
              "      <td>209.000000</td>\n",
              "      <td>4.000000</td>\n",
              "    </tr>\n",
              "    <tr>\n",
              "      <th>max</th>\n",
              "      <td>385.000000</td>\n",
              "      <td>337.000000</td>\n",
              "      <td>120.000000</td>\n",
              "      <td>NaN</td>\n",
              "      <td>NaN</td>\n",
              "      <td>3.970000</td>\n",
              "      <td>5.000000</td>\n",
              "      <td>12.000000</td>\n",
              "      <td>10.000000</td>\n",
              "      <td>332.000000</td>\n",
              "      <td>4.000000</td>\n",
              "    </tr>\n",
              "  </tbody>\n",
              "</table>\n",
              "</div>\n",
              "    <div class=\"colab-df-buttons\">\n",
              "\n",
              "  <div class=\"colab-df-container\">\n",
              "    <button class=\"colab-df-convert\" onclick=\"convertToInteractive('df-a3833208-f269-4da2-b4ce-c895cc4f51ca')\"\n",
              "            title=\"Convert this dataframe to an interactive table.\"\n",
              "            style=\"display:none;\">\n",
              "\n",
              "  <svg xmlns=\"http://www.w3.org/2000/svg\" height=\"24px\" viewBox=\"0 -960 960 960\">\n",
              "    <path d=\"M120-120v-720h720v720H120Zm60-500h600v-160H180v160Zm220 220h160v-160H400v160Zm0 220h160v-160H400v160ZM180-400h160v-160H180v160Zm440 0h160v-160H620v160ZM180-180h160v-160H180v160Zm440 0h160v-160H620v160Z\"/>\n",
              "  </svg>\n",
              "    </button>\n",
              "\n",
              "  <style>\n",
              "    .colab-df-container {\n",
              "      display:flex;\n",
              "      gap: 12px;\n",
              "    }\n",
              "\n",
              "    .colab-df-convert {\n",
              "      background-color: #E8F0FE;\n",
              "      border: none;\n",
              "      border-radius: 50%;\n",
              "      cursor: pointer;\n",
              "      display: none;\n",
              "      fill: #1967D2;\n",
              "      height: 32px;\n",
              "      padding: 0 0 0 0;\n",
              "      width: 32px;\n",
              "    }\n",
              "\n",
              "    .colab-df-convert:hover {\n",
              "      background-color: #E2EBFA;\n",
              "      box-shadow: 0px 1px 2px rgba(60, 64, 67, 0.3), 0px 1px 3px 1px rgba(60, 64, 67, 0.15);\n",
              "      fill: #174EA6;\n",
              "    }\n",
              "\n",
              "    .colab-df-buttons div {\n",
              "      margin-bottom: 4px;\n",
              "    }\n",
              "\n",
              "    [theme=dark] .colab-df-convert {\n",
              "      background-color: #3B4455;\n",
              "      fill: #D2E3FC;\n",
              "    }\n",
              "\n",
              "    [theme=dark] .colab-df-convert:hover {\n",
              "      background-color: #434B5C;\n",
              "      box-shadow: 0px 1px 3px 1px rgba(0, 0, 0, 0.15);\n",
              "      filter: drop-shadow(0px 1px 2px rgba(0, 0, 0, 0.3));\n",
              "      fill: #FFFFFF;\n",
              "    }\n",
              "  </style>\n",
              "\n",
              "    <script>\n",
              "      const buttonEl =\n",
              "        document.querySelector('#df-a3833208-f269-4da2-b4ce-c895cc4f51ca button.colab-df-convert');\n",
              "      buttonEl.style.display =\n",
              "        google.colab.kernel.accessAllowed ? 'block' : 'none';\n",
              "\n",
              "      async function convertToInteractive(key) {\n",
              "        const element = document.querySelector('#df-a3833208-f269-4da2-b4ce-c895cc4f51ca');\n",
              "        const dataTable =\n",
              "          await google.colab.kernel.invokeFunction('convertToInteractive',\n",
              "                                                    [key], {});\n",
              "        if (!dataTable) return;\n",
              "\n",
              "        const docLinkHtml = 'Like what you see? Visit the ' +\n",
              "          '<a target=\"_blank\" href=https://colab.research.google.com/notebooks/data_table.ipynb>data table notebook</a>'\n",
              "          + ' to learn more about interactive tables.';\n",
              "        element.innerHTML = '';\n",
              "        dataTable['output_type'] = 'display_data';\n",
              "        await google.colab.output.renderOutput(dataTable, element);\n",
              "        const docLink = document.createElement('div');\n",
              "        docLink.innerHTML = docLinkHtml;\n",
              "        element.appendChild(docLink);\n",
              "      }\n",
              "    </script>\n",
              "  </div>\n",
              "\n",
              "\n",
              "<div id=\"df-f170ac6f-709e-433b-9686-5e5f2c9068b3\">\n",
              "  <button class=\"colab-df-quickchart\" onclick=\"quickchart('df-f170ac6f-709e-433b-9686-5e5f2c9068b3')\"\n",
              "            title=\"Suggest charts\"\n",
              "            style=\"display:none;\">\n",
              "\n",
              "<svg xmlns=\"http://www.w3.org/2000/svg\" height=\"24px\"viewBox=\"0 0 24 24\"\n",
              "     width=\"24px\">\n",
              "    <g>\n",
              "        <path d=\"M19 3H5c-1.1 0-2 .9-2 2v14c0 1.1.9 2 2 2h14c1.1 0 2-.9 2-2V5c0-1.1-.9-2-2-2zM9 17H7v-7h2v7zm4 0h-2V7h2v10zm4 0h-2v-4h2v4z\"/>\n",
              "    </g>\n",
              "</svg>\n",
              "  </button>\n",
              "\n",
              "<style>\n",
              "  .colab-df-quickchart {\n",
              "      --bg-color: #E8F0FE;\n",
              "      --fill-color: #1967D2;\n",
              "      --hover-bg-color: #E2EBFA;\n",
              "      --hover-fill-color: #174EA6;\n",
              "      --disabled-fill-color: #AAA;\n",
              "      --disabled-bg-color: #DDD;\n",
              "  }\n",
              "\n",
              "  [theme=dark] .colab-df-quickchart {\n",
              "      --bg-color: #3B4455;\n",
              "      --fill-color: #D2E3FC;\n",
              "      --hover-bg-color: #434B5C;\n",
              "      --hover-fill-color: #FFFFFF;\n",
              "      --disabled-bg-color: #3B4455;\n",
              "      --disabled-fill-color: #666;\n",
              "  }\n",
              "\n",
              "  .colab-df-quickchart {\n",
              "    background-color: var(--bg-color);\n",
              "    border: none;\n",
              "    border-radius: 50%;\n",
              "    cursor: pointer;\n",
              "    display: none;\n",
              "    fill: var(--fill-color);\n",
              "    height: 32px;\n",
              "    padding: 0;\n",
              "    width: 32px;\n",
              "  }\n",
              "\n",
              "  .colab-df-quickchart:hover {\n",
              "    background-color: var(--hover-bg-color);\n",
              "    box-shadow: 0 1px 2px rgba(60, 64, 67, 0.3), 0 1px 3px 1px rgba(60, 64, 67, 0.15);\n",
              "    fill: var(--button-hover-fill-color);\n",
              "  }\n",
              "\n",
              "  .colab-df-quickchart-complete:disabled,\n",
              "  .colab-df-quickchart-complete:disabled:hover {\n",
              "    background-color: var(--disabled-bg-color);\n",
              "    fill: var(--disabled-fill-color);\n",
              "    box-shadow: none;\n",
              "  }\n",
              "\n",
              "  .colab-df-spinner {\n",
              "    border: 2px solid var(--fill-color);\n",
              "    border-color: transparent;\n",
              "    border-bottom-color: var(--fill-color);\n",
              "    animation:\n",
              "      spin 1s steps(1) infinite;\n",
              "  }\n",
              "\n",
              "  @keyframes spin {\n",
              "    0% {\n",
              "      border-color: transparent;\n",
              "      border-bottom-color: var(--fill-color);\n",
              "      border-left-color: var(--fill-color);\n",
              "    }\n",
              "    20% {\n",
              "      border-color: transparent;\n",
              "      border-left-color: var(--fill-color);\n",
              "      border-top-color: var(--fill-color);\n",
              "    }\n",
              "    30% {\n",
              "      border-color: transparent;\n",
              "      border-left-color: var(--fill-color);\n",
              "      border-top-color: var(--fill-color);\n",
              "      border-right-color: var(--fill-color);\n",
              "    }\n",
              "    40% {\n",
              "      border-color: transparent;\n",
              "      border-right-color: var(--fill-color);\n",
              "      border-top-color: var(--fill-color);\n",
              "    }\n",
              "    60% {\n",
              "      border-color: transparent;\n",
              "      border-right-color: var(--fill-color);\n",
              "    }\n",
              "    80% {\n",
              "      border-color: transparent;\n",
              "      border-right-color: var(--fill-color);\n",
              "      border-bottom-color: var(--fill-color);\n",
              "    }\n",
              "    90% {\n",
              "      border-color: transparent;\n",
              "      border-bottom-color: var(--fill-color);\n",
              "    }\n",
              "  }\n",
              "</style>\n",
              "\n",
              "  <script>\n",
              "    async function quickchart(key) {\n",
              "      const quickchartButtonEl =\n",
              "        document.querySelector('#' + key + ' button');\n",
              "      quickchartButtonEl.disabled = true;  // To prevent multiple clicks.\n",
              "      quickchartButtonEl.classList.add('colab-df-spinner');\n",
              "      try {\n",
              "        const charts = await google.colab.kernel.invokeFunction(\n",
              "            'suggestCharts', [key], {});\n",
              "      } catch (error) {\n",
              "        console.error('Error during call to suggestCharts:', error);\n",
              "      }\n",
              "      quickchartButtonEl.classList.remove('colab-df-spinner');\n",
              "      quickchartButtonEl.classList.add('colab-df-quickchart-complete');\n",
              "    }\n",
              "    (() => {\n",
              "      let quickchartButtonEl =\n",
              "        document.querySelector('#df-f170ac6f-709e-433b-9686-5e5f2c9068b3 button');\n",
              "      quickchartButtonEl.style.display =\n",
              "        google.colab.kernel.accessAllowed ? 'block' : 'none';\n",
              "    })();\n",
              "  </script>\n",
              "</div>\n",
              "    </div>\n",
              "  </div>\n"
            ]
          },
          "metadata": {},
          "execution_count": 345
        }
      ],
      "source": [
        "\n",
        "df.describe(include='all')\n"
      ]
    },
    {
      "cell_type": "code",
      "execution_count": 346,
      "metadata": {
        "colab": {
          "base_uri": "https://localhost:8080/"
        },
        "id": "KLG9wkkb5Hpx",
        "outputId": "a55d540f-1578-48a3-c98f-a902728215c5"
      },
      "outputs": [
        {
          "output_type": "execute_result",
          "data": {
            "text/plain": [
              "Serial No             0\n",
              "GRE Score             0\n",
              "Toefl Score           0\n",
              "Ielts Score           0\n",
              "Department            0\n",
              "CGPA                  0\n",
              "Research              0\n",
              "Project               0\n",
              "Work Experience       0\n",
              "University Ranking    0\n",
              "University rating     0\n",
              "dtype: int64"
            ]
          },
          "metadata": {},
          "execution_count": 346
        }
      ],
      "source": [
        "  df.isnull().sum()\n"
      ]
    },
    {
      "cell_type": "markdown",
      "metadata": {
        "id": "7ym-HxTD96ts"
      },
      "source": [
        "**IDENTIFYING AND REMOVING OUTLIERS**"
      ]
    },
    {
      "cell_type": "code",
      "execution_count": 347,
      "metadata": {
        "colab": {
          "base_uri": "https://localhost:8080/",
          "height": 449
        },
        "id": "VF8Pkr0D_VAs",
        "outputId": "4f0c06de-da84-4075-9b7c-ce146ee45e60"
      },
      "outputs": [
        {
          "output_type": "execute_result",
          "data": {
            "text/plain": [
              "<Axes: >"
            ]
          },
          "metadata": {},
          "execution_count": 347
        },
        {
          "output_type": "display_data",
          "data": {
            "text/plain": [
              "<Figure size 640x480 with 1 Axes>"
            ],
            "image/png": "[encoded data removed]"
          },
          "metadata": {}
        }
      ],
      "source": [
        "df.boxplot(column=['GRE Score        ','Toefl Score '])\n"
      ]
    },
    {
      "cell_type": "code",
      "execution_count": 348,
      "metadata": {
        "colab": {
          "base_uri": "https://localhost:8080/",
          "height": 447
        },
        "id": "Mabzbm7vEROU",
        "outputId": "17568d24-cbcc-4c9d-d180-6c1552efd32b"
      },
      "outputs": [
        {
          "output_type": "execute_result",
          "data": {
            "text/plain": [
              "<Axes: >"
            ]
          },
          "metadata": {},
          "execution_count": 348
        },
        {
          "output_type": "display_data",
          "data": {
            "text/plain": [
              "<Figure size 640x480 with 1 Axes>"
            ],
            "image/png": "[encoded data removed]"
          },
          "metadata": {}
        }
      ],
      "source": [
        "df.boxplot(column=['CGPA','Project','Research'])"
      ]
    },
    {
      "cell_type": "code",
      "execution_count": 349,
      "metadata": {
        "colab": {
          "base_uri": "https://localhost:8080/",
          "height": 447
        },
        "id": "NpIebh6ABcx8",
        "outputId": "11b35dfc-19b4-4620-c5aa-924f739f6b32"
      },
      "outputs": [
        {
          "output_type": "execute_result",
          "data": {
            "text/plain": [
              "<Axes: >"
            ]
          },
          "metadata": {},
          "execution_count": 349
        },
        {
          "output_type": "display_data",
          "data": {
            "text/plain": [
              "<Figure size 640x480 with 1 Axes>"
            ],
            "image/png": "[encoded data removed]"
          },
          "metadata": {}
        }
      ],
      "source": [
        "df.boxplot(column=['Work Experience ', 'University rating'])"
      ]
    },
    {
      "cell_type": "markdown",
      "metadata": {
        "id": "rt8xHThjNTHP"
      },
      "source": [
        "**DROPING COLUMNS**"
      ]
    },
    {
      "cell_type": "code",
      "execution_count": 350,
      "metadata": {
        "id": "4Q14SJ1KND64"
      },
      "outputs": [],
      "source": [
        "data1=df.copy()\n",
        "data1.drop(['Serial No'],axis=1,inplace=True)"
      ]
    },
    {
      "cell_type": "markdown",
      "metadata": {
        "id": "OWqy0OWdNwys"
      },
      "source": [
        "**CALCULATING QUANTILES FOR EACH FEATURE**"
      ]
    },
    {
      "cell_type": "code",
      "execution_count": 351,
      "metadata": {
        "colab": {
          "base_uri": "https://localhost:8080/"
        },
        "id": "tiaWLZM-NQ-0",
        "outputId": "a5f65805-04b3-464e-b879-999bcf0ea552"
      },
      "outputs": [
        {
          "output_type": "stream",
          "name": "stdout",
          "text": [
            "GRE Score              14.0\n",
            "Toefl Score            11.0\n",
            "CGPA                    0.4\n",
            "Research                0.0\n",
            "Project                 1.0\n",
            "Work Experience         2.0\n",
            "University Ranking    156.0\n",
            "University rating       2.0\n",
            "dtype: float64\n"
          ]
        },
        {
          "output_type": "stream",
          "name": "stderr",
          "text": [
            "<ipython-input-351-5e2b99fd5460>:1: FutureWarning: The default value of numeric_only in DataFrame.quantile is deprecated. In a future version, it will default to False. Select only valid columns or specify the value of numeric_only to silence this warning.\n",
            "  Q1=data1.quantile(0.25)\n",
            "<ipython-input-351-5e2b99fd5460>:2: FutureWarning: The default value of numeric_only in DataFrame.quantile is deprecated. In a future version, it will default to False. Select only valid columns or specify the value of numeric_only to silence this warning.\n",
            "  Q3=data1.quantile(0.75)\n"
          ]
        }
      ],
      "source": [
        "Q1=data1.quantile(0.25)\n",
        "Q3=data1.quantile(0.75)\n",
        "IQR=Q3-Q1\n",
        "print(IQR)\n"
      ]
    },
    {
      "cell_type": "markdown",
      "metadata": {
        "id": "VG73bxv0OwL8"
      },
      "source": [
        "**IDENTIFYING OUTLIER**"
      ]
    },
    {
      "cell_type": "code",
      "execution_count": 352,
      "metadata": {
        "colab": {
          "base_uri": "https://localhost:8080/",
          "height": 478
        },
        "id": "ASt6KsADO33d",
        "outputId": "445006da-7bfb-47c6-9a36-1c8b5d23f895"
      },
      "outputs": [
        {
          "output_type": "stream",
          "name": "stderr",
          "text": [
            "<ipython-input-352-806671d6d471>:1: FutureWarning: Automatic reindexing on DataFrame vs Series comparisons is deprecated and will raise ValueError in a future version. Do `left, right = left.align(right, axis=1, copy=False)` before e.g. `left == right`\n",
            "  df_out1 = data1[((data1 < (Q1 - 2.5 * IQR)) | (data1 > (Q3 + 2.5 * IQR))).any(axis=1)]\n"
          ]
        },
        {
          "output_type": "execute_result",
          "data": {
            "text/plain": [
              "     GRE Score          Toefl Score  Ielts Score Department  CGPA  Research  \\\n",
              "3                  310          98.0           7        cse  3.78         1   \n",
              "7                  308         108.0         7.5        cse  3.84         0   \n",
              "9                  305         100.0           7        cse  3.68         1   \n",
              "20                 306          95.0         6.5        cse  2.00         0   \n",
              "41                 309          98.0           7        cse  3.55         0   \n",
              "..                 ...           ...         ...        ...   ...       ...   \n",
              "350                315         107.0         7.5        cse  3.58         1   \n",
              "351                317         114.0           8        cse  3.68         2   \n",
              "357                285          98.0           7        cse  3.20         1   \n",
              "374                310         112.0           8         ds  3.62         0   \n",
              "377                322          98.0           7         ds  3.68         0   \n",
              "\n",
              "     Project  Work Experience   University Ranking  University rating  \n",
              "3          1               2.0                 133                  3  \n",
              "7          8               1.0                 115                  3  \n",
              "9          0               0.6                 299                  2  \n",
              "20         0               5.0                 219                  2  \n",
              "41         6               0.7                  89                  4  \n",
              "..       ...               ...                 ...                ...  \n",
              "350        1               1.6                  60                  4  \n",
              "351        4               0.3                  60                  4  \n",
              "357        3               0.0                 209                  2  \n",
              "374        6               1.0                  58                  4  \n",
              "377       12               0.0                  58                  4  \n",
              "\n",
              "[90 rows x 10 columns]"
            ],
            "text/html": [
              "\n",
              "  <div id=\"df-e3f8c8a1-1f24-41a7-97dc-616b7b15ab22\" class=\"colab-df-container\">\n",
              "    <div>\n",
              "<style scoped>\n",
              "    .dataframe tbody tr th:only-of-type {\n",
              "        vertical-align: middle;\n",
              "    }\n",
              "\n",
              "    .dataframe tbody tr th {\n",
              "        vertical-align: top;\n",
              "    }\n",
              "\n",
              "    .dataframe thead th {\n",
              "        text-align: right;\n",
              "    }\n",
              "</style>\n",
              "<table border=\"1\" class=\"dataframe\">\n",
              "  <thead>\n",
              "    <tr style=\"text-align: right;\">\n",
              "      <th></th>\n",
              "      <th>GRE Score</th>\n",
              "      <th>Toefl Score</th>\n",
              "      <th>Ielts Score</th>\n",
              "      <th>Department</th>\n",
              "      <th>CGPA</th>\n",
              "      <th>Research</th>\n",
              "      <th>Project</th>\n",
              "      <th>Work Experience</th>\n",
              "      <th>University Ranking</th>\n",
              "      <th>University rating</th>\n",
              "    </tr>\n",
              "  </thead>\n",
              "  <tbody>\n",
              "    <tr>\n",
              "      <th>3</th>\n",
              "      <td>310</td>\n",
              "      <td>98.0</td>\n",
              "      <td>7</td>\n",
              "      <td>cse</td>\n",
              "      <td>3.78</td>\n",
              "      <td>1</td>\n",
              "      <td>1</td>\n",
              "      <td>2.0</td>\n",
              "      <td>133</td>\n",
              "      <td>3</td>\n",
              "    </tr>\n",
              "    <tr>\n",
              "      <th>7</th>\n",
              "      <td>308</td>\n",
              "      <td>108.0</td>\n",
              "      <td>7.5</td>\n",
              "      <td>cse</td>\n",
              "      <td>3.84</td>\n",
              "      <td>0</td>\n",
              "      <td>8</td>\n",
              "      <td>1.0</td>\n",
              "      <td>115</td>\n",
              "      <td>3</td>\n",
              "    </tr>\n",
              "    <tr>\n",
              "      <th>9</th>\n",
              "      <td>305</td>\n",
              "      <td>100.0</td>\n",
              "      <td>7</td>\n",
              "      <td>cse</td>\n",
              "      <td>3.68</td>\n",
              "      <td>1</td>\n",
              "      <td>0</td>\n",
              "      <td>0.6</td>\n",
              "      <td>299</td>\n",
              "      <td>2</td>\n",
              "    </tr>\n",
              "    <tr>\n",
              "      <th>20</th>\n",
              "      <td>306</td>\n",
              "      <td>95.0</td>\n",
              "      <td>6.5</td>\n",
              "      <td>cse</td>\n",
              "      <td>2.00</td>\n",
              "      <td>0</td>\n",
              "      <td>0</td>\n",
              "      <td>5.0</td>\n",
              "      <td>219</td>\n",
              "      <td>2</td>\n",
              "    </tr>\n",
              "    <tr>\n",
              "      <th>41</th>\n",
              "      <td>309</td>\n",
              "      <td>98.0</td>\n",
              "      <td>7</td>\n",
              "      <td>cse</td>\n",
              "      <td>3.55</td>\n",
              "      <td>0</td>\n",
              "      <td>6</td>\n",
              "      <td>0.7</td>\n",
              "      <td>89</td>\n",
              "      <td>4</td>\n",
              "    </tr>\n",
              "    <tr>\n",
              "      <th>...</th>\n",
              "      <td>...</td>\n",
              "      <td>...</td>\n",
              "      <td>...</td>\n",
              "      <td>...</td>\n",
              "      <td>...</td>\n",
              "      <td>...</td>\n",
              "      <td>...</td>\n",
              "      <td>...</td>\n",
              "      <td>...</td>\n",
              "      <td>...</td>\n",
              "    </tr>\n",
              "    <tr>\n",
              "      <th>350</th>\n",
              "      <td>315</td>\n",
              "      <td>107.0</td>\n",
              "      <td>7.5</td>\n",
              "      <td>cse</td>\n",
              "      <td>3.58</td>\n",
              "      <td>1</td>\n",
              "      <td>1</td>\n",
              "      <td>1.6</td>\n",
              "      <td>60</td>\n",
              "      <td>4</td>\n",
              "    </tr>\n",
              "    <tr>\n",
              "      <th>351</th>\n",
              "      <td>317</td>\n",
              "      <td>114.0</td>\n",
              "      <td>8</td>\n",
              "      <td>cse</td>\n",
              "      <td>3.68</td>\n",
              "      <td>2</td>\n",
              "      <td>4</td>\n",
              "      <td>0.3</td>\n",
              "      <td>60</td>\n",
              "      <td>4</td>\n",
              "    </tr>\n",
              "    <tr>\n",
              "      <th>357</th>\n",
              "      <td>285</td>\n",
              "      <td>98.0</td>\n",
              "      <td>7</td>\n",
              "      <td>cse</td>\n",
              "      <td>3.20</td>\n",
              "      <td>1</td>\n",
              "      <td>3</td>\n",
              "      <td>0.0</td>\n",
              "      <td>209</td>\n",
              "      <td>2</td>\n",
              "    </tr>\n",
              "    <tr>\n",
              "      <th>374</th>\n",
              "      <td>310</td>\n",
              "      <td>112.0</td>\n",
              "      <td>8</td>\n",
              "      <td>ds</td>\n",
              "      <td>3.62</td>\n",
              "      <td>0</td>\n",
              "      <td>6</td>\n",
              "      <td>1.0</td>\n",
              "      <td>58</td>\n",
              "      <td>4</td>\n",
              "    </tr>\n",
              "    <tr>\n",
              "      <th>377</th>\n",
              "      <td>322</td>\n",
              "      <td>98.0</td>\n",
              "      <td>7</td>\n",
              "      <td>ds</td>\n",
              "      <td>3.68</td>\n",
              "      <td>0</td>\n",
              "      <td>12</td>\n",
              "      <td>0.0</td>\n",
              "      <td>58</td>\n",
              "      <td>4</td>\n",
              "    </tr>\n",
              "  </tbody>\n",
              "</table>\n",
              "<p>90 rows × 10 columns</p>\n",
              "</div>\n",
              "    <div class=\"colab-df-buttons\">\n",
              "\n",
              "  <div class=\"colab-df-container\">\n",
              "    <button class=\"colab-df-convert\" onclick=\"convertToInteractive('df-e3f8c8a1-1f24-41a7-97dc-616b7b15ab22')\"\n",
              "            title=\"Convert this dataframe to an interactive table.\"\n",
              "            style=\"display:none;\">\n",
              "\n",
              "  <svg xmlns=\"http://www.w3.org/2000/svg\" height=\"24px\" viewBox=\"0 -960 960 960\">\n",
              "    <path d=\"M120-120v-720h720v720H120Zm60-500h600v-160H180v160Zm220 220h160v-160H400v160Zm0 220h160v-160H400v160ZM180-400h160v-160H180v160Zm440 0h160v-160H620v160ZM180-180h160v-160H180v160Zm440 0h160v-160H620v160Z\"/>\n",
              "  </svg>\n",
              "    </button>\n",
              "\n",
              "  <style>\n",
              "    .colab-df-container {\n",
              "      display:flex;\n",
              "      gap: 12px;\n",
              "    }\n",
              "\n",
              "    .colab-df-convert {\n",
              "      background-color: #E8F0FE;\n",
              "      border: none;\n",
              "      border-radius: 50%;\n",
              "      cursor: pointer;\n",
              "      display: none;\n",
              "      fill: #1967D2;\n",
              "      height: 32px;\n",
              "      padding: 0 0 0 0;\n",
              "      width: 32px;\n",
              "    }\n",
              "\n",
              "    .colab-df-convert:hover {\n",
              "      background-color: #E2EBFA;\n",
              "      box-shadow: 0px 1px 2px rgba(60, 64, 67, 0.3), 0px 1px 3px 1px rgba(60, 64, 67, 0.15);\n",
              "      fill: #174EA6;\n",
              "    }\n",
              "\n",
              "    .colab-df-buttons div {\n",
              "      margin-bottom: 4px;\n",
              "    }\n",
              "\n",
              "    [theme=dark] .colab-df-convert {\n",
              "      background-color: #3B4455;\n",
              "      fill: #D2E3FC;\n",
              "    }\n",
              "\n",
              "    [theme=dark] .colab-df-convert:hover {\n",
              "      background-color: #434B5C;\n",
              "      box-shadow: 0px 1px 3px 1px rgba(0, 0, 0, 0.15);\n",
              "      filter: drop-shadow(0px 1px 2px rgba(0, 0, 0, 0.3));\n",
              "      fill: #FFFFFF;\n",
              "    }\n",
              "  </style>\n",
              "\n",
              "    <script>\n",
              "      const buttonEl =\n",
              "        document.querySelector('#df-e3f8c8a1-1f24-41a7-97dc-616b7b15ab22 button.colab-df-convert');\n",
              "      buttonEl.style.display =\n",
              "        google.colab.kernel.accessAllowed ? 'block' : 'none';\n",
              "\n",
              "      async function convertToInteractive(key) {\n",
              "        const element = document.querySelector('#df-e3f8c8a1-1f24-41a7-97dc-616b7b15ab22');\n",
              "        const dataTable =\n",
              "          await google.colab.kernel.invokeFunction('convertToInteractive',\n",
              "                                                    [key], {});\n",
              "        if (!dataTable) return;\n",
              "\n",
              "        const docLinkHtml = 'Like what you see? Visit the ' +\n",
              "          '<a target=\"_blank\" href=https://colab.research.google.com/notebooks/data_table.ipynb>data table notebook</a>'\n",
              "          + ' to learn more about interactive tables.';\n",
              "        element.innerHTML = '';\n",
              "        dataTable['output_type'] = 'display_data';\n",
              "        await google.colab.output.renderOutput(dataTable, element);\n",
              "        const docLink = document.createElement('div');\n",
              "        docLink.innerHTML = docLinkHtml;\n",
              "        element.appendChild(docLink);\n",
              "      }\n",
              "    </script>\n",
              "  </div>\n",
              "\n",
              "\n",
              "<div id=\"df-343baaaf-88c3-4aeb-95e7-772808c3c979\">\n",
              "  <button class=\"colab-df-quickchart\" onclick=\"quickchart('df-343baaaf-88c3-4aeb-95e7-772808c3c979')\"\n",
              "            title=\"Suggest charts\"\n",
              "            style=\"display:none;\">\n",
              "\n",
              "<svg xmlns=\"http://www.w3.org/2000/svg\" height=\"24px\"viewBox=\"0 0 24 24\"\n",
              "     width=\"24px\">\n",
              "    <g>\n",
              "        <path d=\"M19 3H5c-1.1 0-2 .9-2 2v14c0 1.1.9 2 2 2h14c1.1 0 2-.9 2-2V5c0-1.1-.9-2-2-2zM9 17H7v-7h2v7zm4 0h-2V7h2v10zm4 0h-2v-4h2v4z\"/>\n",
              "    </g>\n",
              "</svg>\n",
              "  </button>\n",
              "\n",
              "<style>\n",
              "  .colab-df-quickchart {\n",
              "      --bg-color: #E8F0FE;\n",
              "      --fill-color: #1967D2;\n",
              "      --hover-bg-color: #E2EBFA;\n",
              "      --hover-fill-color: #174EA6;\n",
              "      --disabled-fill-color: #AAA;\n",
              "      --disabled-bg-color: #DDD;\n",
              "  }\n",
              "\n",
              "  [theme=dark] .colab-df-quickchart {\n",
              "      --bg-color: #3B4455;\n",
              "      --fill-color: #D2E3FC;\n",
              "      --hover-bg-color: #434B5C;\n",
              "      --hover-fill-color: #FFFFFF;\n",
              "      --disabled-bg-color: #3B4455;\n",
              "      --disabled-fill-color: #666;\n",
              "  }\n",
              "\n",
              "  .colab-df-quickchart {\n",
              "    background-color: var(--bg-color);\n",
              "    border: none;\n",
              "    border-radius: 50%;\n",
              "    cursor: pointer;\n",
              "    display: none;\n",
              "    fill: var(--fill-color);\n",
              "    height: 32px;\n",
              "    padding: 0;\n",
              "    width: 32px;\n",
              "  }\n",
              "\n",
              "  .colab-df-quickchart:hover {\n",
              "    background-color: var(--hover-bg-color);\n",
              "    box-shadow: 0 1px 2px rgba(60, 64, 67, 0.3), 0 1px 3px 1px rgba(60, 64, 67, 0.15);\n",
              "    fill: var(--button-hover-fill-color);\n",
              "  }\n",
              "\n",
              "  .colab-df-quickchart-complete:disabled,\n",
              "  .colab-df-quickchart-complete:disabled:hover {\n",
              "    background-color: var(--disabled-bg-color);\n",
              "    fill: var(--disabled-fill-color);\n",
              "    box-shadow: none;\n",
              "  }\n",
              "\n",
              "  .colab-df-spinner {\n",
              "    border: 2px solid var(--fill-color);\n",
              "    border-color: transparent;\n",
              "    border-bottom-color: var(--fill-color);\n",
              "    animation:\n",
              "      spin 1s steps(1) infinite;\n",
              "  }\n",
              "\n",
              "  @keyframes spin {\n",
              "    0% {\n",
              "      border-color: transparent;\n",
              "      border-bottom-color: var(--fill-color);\n",
              "      border-left-color: var(--fill-color);\n",
              "    }\n",
              "    20% {\n",
              "      border-color: transparent;\n",
              "      border-left-color: var(--fill-color);\n",
              "      border-top-color: var(--fill-color);\n",
              "    }\n",
              "    30% {\n",
              "      border-color: transparent;\n",
              "      border-left-color: var(--fill-color);\n",
              "      border-top-color: var(--fill-color);\n",
              "      border-right-color: var(--fill-color);\n",
              "    }\n",
              "    40% {\n",
              "      border-color: transparent;\n",
              "      border-right-color: var(--fill-color);\n",
              "      border-top-color: var(--fill-color);\n",
              "    }\n",
              "    60% {\n",
              "      border-color: transparent;\n",
              "      border-right-color: var(--fill-color);\n",
              "    }\n",
              "    80% {\n",
              "      border-color: transparent;\n",
              "      border-right-color: var(--fill-color);\n",
              "      border-bottom-color: var(--fill-color);\n",
              "    }\n",
              "    90% {\n",
              "      border-color: transparent;\n",
              "      border-bottom-color: var(--fill-color);\n",
              "    }\n",
              "  }\n",
              "</style>\n",
              "\n",
              "  <script>\n",
              "    async function quickchart(key) {\n",
              "      const quickchartButtonEl =\n",
              "        document.querySelector('#' + key + ' button');\n",
              "      quickchartButtonEl.disabled = true;  // To prevent multiple clicks.\n",
              "      quickchartButtonEl.classList.add('colab-df-spinner');\n",
              "      try {\n",
              "        const charts = await google.colab.kernel.invokeFunction(\n",
              "            'suggestCharts', [key], {});\n",
              "      } catch (error) {\n",
              "        console.error('Error during call to suggestCharts:', error);\n",
              "      }\n",
              "      quickchartButtonEl.classList.remove('colab-df-spinner');\n",
              "      quickchartButtonEl.classList.add('colab-df-quickchart-complete');\n",
              "    }\n",
              "    (() => {\n",
              "      let quickchartButtonEl =\n",
              "        document.querySelector('#df-343baaaf-88c3-4aeb-95e7-772808c3c979 button');\n",
              "      quickchartButtonEl.style.display =\n",
              "        google.colab.kernel.accessAllowed ? 'block' : 'none';\n",
              "    })();\n",
              "  </script>\n",
              "</div>\n",
              "    </div>\n",
              "  </div>\n"
            ]
          },
          "metadata": {},
          "execution_count": 352
        }
      ],
      "source": [
        "df_out1 = data1[((data1 < (Q1 - 2.5 * IQR)) | (data1 > (Q3 + 2.5 * IQR))).any(axis=1)]\n",
        "df_out1"
      ]
    },
    {
      "cell_type": "markdown",
      "metadata": {
        "id": "wGS8Edn4Rwr8"
      },
      "source": [
        "**REMOVING OUTLIERS**"
      ]
    },
    {
      "cell_type": "code",
      "execution_count": 353,
      "metadata": {
        "colab": {
          "base_uri": "https://localhost:8080/",
          "height": 495
        },
        "id": "OOeTgomBO11m",
        "outputId": "5caee703-8d19-43e9-bf8e-a22270bc35c3"
      },
      "outputs": [
        {
          "output_type": "stream",
          "name": "stdout",
          "text": [
            "(295, 10)\n"
          ]
        },
        {
          "output_type": "stream",
          "name": "stderr",
          "text": [
            "<ipython-input-353-a3b1278bca21>:1: FutureWarning: Automatic reindexing on DataFrame vs Series comparisons is deprecated and will raise ValueError in a future version. Do `left, right = left.align(right, axis=1, copy=False)` before e.g. `left == right`\n",
            "  df_out=data1[~((data1 < (Q1 - 2.5 * IQR)) | (data1 > (Q3 + 2.5 * IQR))).any(axis=1)]\n"
          ]
        },
        {
          "output_type": "execute_result",
          "data": {
            "text/plain": [
              "     GRE Score          Toefl Score  Ielts Score Department  CGPA  Research  \\\n",
              "0                  299         105.0         7.5        cse  3.74         0   \n",
              "1                  303          98.0           7        cse  3.68         0   \n",
              "2                  300          98.0           7        cse  3.68         0   \n",
              "4                  306          98.0           7        cse  3.00         0   \n",
              "5                  311          85.0         6.5        cse  3.36         0   \n",
              "..                 ...           ...         ...        ...   ...       ...   \n",
              "380                323         105.0         7.5        cse  3.78         0   \n",
              "381                320         105.0         7.5        cse  3.65         0   \n",
              "382                317         114.0           8        cse  3.81         0   \n",
              "383                324          94.0         6.5        cse  3.68         0   \n",
              "384                322         101.0           7        cse  3.00         0   \n",
              "\n",
              "     Project  Work Experience   University Ranking  University rating  \n",
              "0          1               3.0                 250                  2  \n",
              "1          0               0.0                 250                  2  \n",
              "2          0               1.0                 250                  2  \n",
              "4          3               1.0                 133                  3  \n",
              "5          0               0.0                 133                  3  \n",
              "..       ...               ...                 ...                ...  \n",
              "380        0               0.0                  67                  4  \n",
              "381        0               3.0                  67                  4  \n",
              "382        1               2.0                  67                  4  \n",
              "383        0               2.5                  67                  4  \n",
              "384        0               0.0                  67                  4  \n",
              "\n",
              "[295 rows x 10 columns]"
            ],
            "text/html": [
              "\n",
              "  <div id=\"df-c2d375d4-d8c6-44a6-9582-aae37cb3085b\" class=\"colab-df-container\">\n",
              "    <div>\n",
              "<style scoped>\n",
              "    .dataframe tbody tr th:only-of-type {\n",
              "        vertical-align: middle;\n",
              "    }\n",
              "\n",
              "    .dataframe tbody tr th {\n",
              "        vertical-align: top;\n",
              "    }\n",
              "\n",
              "    .dataframe thead th {\n",
              "        text-align: right;\n",
              "    }\n",
              "</style>\n",
              "<table border=\"1\" class=\"dataframe\">\n",
              "  <thead>\n",
              "    <tr style=\"text-align: right;\">\n",
              "      <th></th>\n",
              "      <th>GRE Score</th>\n",
              "      <th>Toefl Score</th>\n",
              "      <th>Ielts Score</th>\n",
              "      <th>Department</th>\n",
              "      <th>CGPA</th>\n",
              "      <th>Research</th>\n",
              "      <th>Project</th>\n",
              "      <th>Work Experience</th>\n",
              "      <th>University Ranking</th>\n",
              "      <th>University rating</th>\n",
              "    </tr>\n",
              "  </thead>\n",
              "  <tbody>\n",
              "    <tr>\n",
              "      <th>0</th>\n",
              "      <td>299</td>\n",
              "      <td>105.0</td>\n",
              "      <td>7.5</td>\n",
              "      <td>cse</td>\n",
              "      <td>3.74</td>\n",
              "      <td>0</td>\n",
              "      <td>1</td>\n",
              "      <td>3.0</td>\n",
              "      <td>250</td>\n",
              "      <td>2</td>\n",
              "    </tr>\n",
              "    <tr>\n",
              "      <th>1</th>\n",
              "      <td>303</td>\n",
              "      <td>98.0</td>\n",
              "      <td>7</td>\n",
              "      <td>cse</td>\n",
              "      <td>3.68</td>\n",
              "      <td>0</td>\n",
              "      <td>0</td>\n",
              "      <td>0.0</td>\n",
              "      <td>250</td>\n",
              "      <td>2</td>\n",
              "    </tr>\n",
              "    <tr>\n",
              "      <th>2</th>\n",
              "      <td>300</td>\n",
              "      <td>98.0</td>\n",
              "      <td>7</td>\n",
              "      <td>cse</td>\n",
              "      <td>3.68</td>\n",
              "      <td>0</td>\n",
              "      <td>0</td>\n",
              "      <td>1.0</td>\n",
              "      <td>250</td>\n",
              "      <td>2</td>\n",
              "    </tr>\n",
              "    <tr>\n",
              "      <th>4</th>\n",
              "      <td>306</td>\n",
              "      <td>98.0</td>\n",
              "      <td>7</td>\n",
              "      <td>cse</td>\n",
              "      <td>3.00</td>\n",
              "      <td>0</td>\n",
              "      <td>3</td>\n",
              "      <td>1.0</td>\n",
              "      <td>133</td>\n",
              "      <td>3</td>\n",
              "    </tr>\n",
              "    <tr>\n",
              "      <th>5</th>\n",
              "      <td>311</td>\n",
              "      <td>85.0</td>\n",
              "      <td>6.5</td>\n",
              "      <td>cse</td>\n",
              "      <td>3.36</td>\n",
              "      <td>0</td>\n",
              "      <td>0</td>\n",
              "      <td>0.0</td>\n",
              "      <td>133</td>\n",
              "      <td>3</td>\n",
              "    </tr>\n",
              "    <tr>\n",
              "      <th>...</th>\n",
              "      <td>...</td>\n",
              "      <td>...</td>\n",
              "      <td>...</td>\n",
              "      <td>...</td>\n",
              "      <td>...</td>\n",
              "      <td>...</td>\n",
              "      <td>...</td>\n",
              "      <td>...</td>\n",
              "      <td>...</td>\n",
              "      <td>...</td>\n",
              "    </tr>\n",
              "    <tr>\n",
              "      <th>380</th>\n",
              "      <td>323</td>\n",
              "      <td>105.0</td>\n",
              "      <td>7.5</td>\n",
              "      <td>cse</td>\n",
              "      <td>3.78</td>\n",
              "      <td>0</td>\n",
              "      <td>0</td>\n",
              "      <td>0.0</td>\n",
              "      <td>67</td>\n",
              "      <td>4</td>\n",
              "    </tr>\n",
              "    <tr>\n",
              "      <th>381</th>\n",
              "      <td>320</td>\n",
              "      <td>105.0</td>\n",
              "      <td>7.5</td>\n",
              "      <td>cse</td>\n",
              "      <td>3.65</td>\n",
              "      <td>0</td>\n",
              "      <td>0</td>\n",
              "      <td>3.0</td>\n",
              "      <td>67</td>\n",
              "      <td>4</td>\n",
              "    </tr>\n",
              "    <tr>\n",
              "      <th>382</th>\n",
              "      <td>317</td>\n",
              "      <td>114.0</td>\n",
              "      <td>8</td>\n",
              "      <td>cse</td>\n",
              "      <td>3.81</td>\n",
              "      <td>0</td>\n",
              "      <td>1</td>\n",
              "      <td>2.0</td>\n",
              "      <td>67</td>\n",
              "      <td>4</td>\n",
              "    </tr>\n",
              "    <tr>\n",
              "      <th>383</th>\n",
              "      <td>324</td>\n",
              "      <td>94.0</td>\n",
              "      <td>6.5</td>\n",
              "      <td>cse</td>\n",
              "      <td>3.68</td>\n",
              "      <td>0</td>\n",
              "      <td>0</td>\n",
              "      <td>2.5</td>\n",
              "      <td>67</td>\n",
              "      <td>4</td>\n",
              "    </tr>\n",
              "    <tr>\n",
              "      <th>384</th>\n",
              "      <td>322</td>\n",
              "      <td>101.0</td>\n",
              "      <td>7</td>\n",
              "      <td>cse</td>\n",
              "      <td>3.00</td>\n",
              "      <td>0</td>\n",
              "      <td>0</td>\n",
              "      <td>0.0</td>\n",
              "      <td>67</td>\n",
              "      <td>4</td>\n",
              "    </tr>\n",
              "  </tbody>\n",
              "</table>\n",
              "<p>295 rows × 10 columns</p>\n",
              "</div>\n",
              "    <div class=\"colab-df-buttons\">\n",
              "\n",
              "  <div class=\"colab-df-container\">\n",
              "    <button class=\"colab-df-convert\" onclick=\"convertToInteractive('df-c2d375d4-d8c6-44a6-9582-aae37cb3085b')\"\n",
              "            title=\"Convert this dataframe to an interactive table.\"\n",
              "            style=\"display:none;\">\n",
              "\n",
              "  <svg xmlns=\"http://www.w3.org/2000/svg\" height=\"24px\" viewBox=\"0 -960 960 960\">\n",
              "    <path d=\"M120-120v-720h720v720H120Zm60-500h600v-160H180v160Zm220 220h160v-160H400v160Zm0 220h160v-160H400v160ZM180-400h160v-160H180v160Zm440 0h160v-160H620v160ZM180-180h160v-160H180v160Zm440 0h160v-160H620v160Z\"/>\n",
              "  </svg>\n",
              "    </button>\n",
              "\n",
              "  <style>\n",
              "    .colab-df-container {\n",
              "      display:flex;\n",
              "      gap: 12px;\n",
              "    }\n",
              "\n",
              "    .colab-df-convert {\n",
              "      background-color: #E8F0FE;\n",
              "      border: none;\n",
              "      border-radius: 50%;\n",
              "      cursor: pointer;\n",
              "      display: none;\n",
              "      fill: #1967D2;\n",
              "      height: 32px;\n",
              "      padding: 0 0 0 0;\n",
              "      width: 32px;\n",
              "    }\n",
              "\n",
              "    .colab-df-convert:hover {\n",
              "      background-color: #E2EBFA;\n",
              "      box-shadow: 0px 1px 2px rgba(60, 64, 67, 0.3), 0px 1px 3px 1px rgba(60, 64, 67, 0.15);\n",
              "      fill: #174EA6;\n",
              "    }\n",
              "\n",
              "    .colab-df-buttons div {\n",
              "      margin-bottom: 4px;\n",
              "    }\n",
              "\n",
              "    [theme=dark] .colab-df-convert {\n",
              "      background-color: #3B4455;\n",
              "      fill: #D2E3FC;\n",
              "    }\n",
              "\n",
              "    [theme=dark] .colab-df-convert:hover {\n",
              "      background-color: #434B5C;\n",
              "      box-shadow: 0px 1px 3px 1px rgba(0, 0, 0, 0.15);\n",
              "      filter: drop-shadow(0px 1px 2px rgba(0, 0, 0, 0.3));\n",
              "      fill: #FFFFFF;\n",
              "    }\n",
              "  </style>\n",
              "\n",
              "    <script>\n",
              "      const buttonEl =\n",
              "        document.querySelector('#df-c2d375d4-d8c6-44a6-9582-aae37cb3085b button.colab-df-convert');\n",
              "      buttonEl.style.display =\n",
              "        google.colab.kernel.accessAllowed ? 'block' : 'none';\n",
              "\n",
              "      async function convertToInteractive(key) {\n",
              "        const element = document.querySelector('#df-c2d375d4-d8c6-44a6-9582-aae37cb3085b');\n",
              "        const dataTable =\n",
              "          await google.colab.kernel.invokeFunction('convertToInteractive',\n",
              "                                                    [key], {});\n",
              "        if (!dataTable) return;\n",
              "\n",
              "        const docLinkHtml = 'Like what you see? Visit the ' +\n",
              "          '<a target=\"_blank\" href=https://colab.research.google.com/notebooks/data_table.ipynb>data table notebook</a>'\n",
              "          + ' to learn more about interactive tables.';\n",
              "        element.innerHTML = '';\n",
              "        dataTable['output_type'] = 'display_data';\n",
              "        await google.colab.output.renderOutput(dataTable, element);\n",
              "        const docLink = document.createElement('div');\n",
              "        docLink.innerHTML = docLinkHtml;\n",
              "        element.appendChild(docLink);\n",
              "      }\n",
              "    </script>\n",
              "  </div>\n",
              "\n",
              "\n",
              "<div id=\"df-ec310599-cdbb-4bf0-9fcf-ec2f9b7e15c5\">\n",
              "  <button class=\"colab-df-quickchart\" onclick=\"quickchart('df-ec310599-cdbb-4bf0-9fcf-ec2f9b7e15c5')\"\n",
              "            title=\"Suggest charts\"\n",
              "            style=\"display:none;\">\n",
              "\n",
              "<svg xmlns=\"http://www.w3.org/2000/svg\" height=\"24px\"viewBox=\"0 0 24 24\"\n",
              "     width=\"24px\">\n",
              "    <g>\n",
              "        <path d=\"M19 3H5c-1.1 0-2 .9-2 2v14c0 1.1.9 2 2 2h14c1.1 0 2-.9 2-2V5c0-1.1-.9-2-2-2zM9 17H7v-7h2v7zm4 0h-2V7h2v10zm4 0h-2v-4h2v4z\"/>\n",
              "    </g>\n",
              "</svg>\n",
              "  </button>\n",
              "\n",
              "<style>\n",
              "  .colab-df-quickchart {\n",
              "      --bg-color: #E8F0FE;\n",
              "      --fill-color: #1967D2;\n",
              "      --hover-bg-color: #E2EBFA;\n",
              "      --hover-fill-color: #174EA6;\n",
              "      --disabled-fill-color: #AAA;\n",
              "      --disabled-bg-color: #DDD;\n",
              "  }\n",
              "\n",
              "  [theme=dark] .colab-df-quickchart {\n",
              "      --bg-color: #3B4455;\n",
              "      --fill-color: #D2E3FC;\n",
              "      --hover-bg-color: #434B5C;\n",
              "      --hover-fill-color: #FFFFFF;\n",
              "      --disabled-bg-color: #3B4455;\n",
              "      --disabled-fill-color: #666;\n",
              "  }\n",
              "\n",
              "  .colab-df-quickchart {\n",
              "    background-color: var(--bg-color);\n",
              "    border: none;\n",
              "    border-radius: 50%;\n",
              "    cursor: pointer;\n",
              "    display: none;\n",
              "    fill: var(--fill-color);\n",
              "    height: 32px;\n",
              "    padding: 0;\n",
              "    width: 32px;\n",
              "  }\n",
              "\n",
              "  .colab-df-quickchart:hover {\n",
              "    background-color: var(--hover-bg-color);\n",
              "    box-shadow: 0 1px 2px rgba(60, 64, 67, 0.3), 0 1px 3px 1px rgba(60, 64, 67, 0.15);\n",
              "    fill: var(--button-hover-fill-color);\n",
              "  }\n",
              "\n",
              "  .colab-df-quickchart-complete:disabled,\n",
              "  .colab-df-quickchart-complete:disabled:hover {\n",
              "    background-color: var(--disabled-bg-color);\n",
              "    fill: var(--disabled-fill-color);\n",
              "    box-shadow: none;\n",
              "  }\n",
              "\n",
              "  .colab-df-spinner {\n",
              "    border: 2px solid var(--fill-color);\n",
              "    border-color: transparent;\n",
              "    border-bottom-color: var(--fill-color);\n",
              "    animation:\n",
              "      spin 1s steps(1) infinite;\n",
              "  }\n",
              "\n",
              "  @keyframes spin {\n",
              "    0% {\n",
              "      border-color: transparent;\n",
              "      border-bottom-color: var(--fill-color);\n",
              "      border-left-color: var(--fill-color);\n",
              "    }\n",
              "    20% {\n",
              "      border-color: transparent;\n",
              "      border-left-color: var(--fill-color);\n",
              "      border-top-color: var(--fill-color);\n",
              "    }\n",
              "    30% {\n",
              "      border-color: transparent;\n",
              "      border-left-color: var(--fill-color);\n",
              "      border-top-color: var(--fill-color);\n",
              "      border-right-color: var(--fill-color);\n",
              "    }\n",
              "    40% {\n",
              "      border-color: transparent;\n",
              "      border-right-color: var(--fill-color);\n",
              "      border-top-color: var(--fill-color);\n",
              "    }\n",
              "    60% {\n",
              "      border-color: transparent;\n",
              "      border-right-color: var(--fill-color);\n",
              "    }\n",
              "    80% {\n",
              "      border-color: transparent;\n",
              "      border-right-color: var(--fill-color);\n",
              "      border-bottom-color: var(--fill-color);\n",
              "    }\n",
              "    90% {\n",
              "      border-color: transparent;\n",
              "      border-bottom-color: var(--fill-color);\n",
              "    }\n",
              "  }\n",
              "</style>\n",
              "\n",
              "  <script>\n",
              "    async function quickchart(key) {\n",
              "      const quickchartButtonEl =\n",
              "        document.querySelector('#' + key + ' button');\n",
              "      quickchartButtonEl.disabled = true;  // To prevent multiple clicks.\n",
              "      quickchartButtonEl.classList.add('colab-df-spinner');\n",
              "      try {\n",
              "        const charts = await google.colab.kernel.invokeFunction(\n",
              "            'suggestCharts', [key], {});\n",
              "      } catch (error) {\n",
              "        console.error('Error during call to suggestCharts:', error);\n",
              "      }\n",
              "      quickchartButtonEl.classList.remove('colab-df-spinner');\n",
              "      quickchartButtonEl.classList.add('colab-df-quickchart-complete');\n",
              "    }\n",
              "    (() => {\n",
              "      let quickchartButtonEl =\n",
              "        document.querySelector('#df-ec310599-cdbb-4bf0-9fcf-ec2f9b7e15c5 button');\n",
              "      quickchartButtonEl.style.display =\n",
              "        google.colab.kernel.accessAllowed ? 'block' : 'none';\n",
              "    })();\n",
              "  </script>\n",
              "</div>\n",
              "    </div>\n",
              "  </div>\n"
            ]
          },
          "metadata": {},
          "execution_count": 353
        }
      ],
      "source": [
        "df_out=data1[~((data1 < (Q1 - 2.5 * IQR)) | (data1 > (Q3 + 2.5 * IQR))).any(axis=1)]\n",
        "data=df_out.copy()\n",
        "print(data.shape)\n",
        "data"
      ]
    },
    {
      "cell_type": "markdown",
      "metadata": {
        "id": "H6oCLj7STrWP"
      },
      "source": [
        "**UNIVARIATE ANALYSIS**"
      ]
    },
    {
      "cell_type": "markdown",
      "metadata": {
        "id": "eRsRhVbuyrHi"
      },
      "source": [
        "**Level ENCODER**"
      ]
    },
    {
      "cell_type": "markdown",
      "metadata": {
        "id": "C228jQdOYnp2"
      },
      "source": [
        "**preprocessing data**"
      ]
    },
    {
      "cell_type": "code",
      "execution_count": 354,
      "metadata": {
        "id": "3V6dX6uYzCjn"
      },
      "outputs": [],
      "source": [
        "from sklearn.preprocessing import LabelEncoder\n",
        "lc=LabelEncoder()\n",
        "data['Department']=lc.fit_transform(data['Department'])\n",
        "data['Ielts Score']=lc.fit_transform(data['Ielts Score'])\n",
        "data['Research']=lc.fit_transform(data['Research'])\n",
        "\n"
      ]
    },
    {
      "cell_type": "code",
      "source": [
        "print(data['GRE Score        '].corr(data[\"GRE Score        \"]))\n",
        "print(data['GRE Score        '].corr(data[\"Toefl Score \"]))\n",
        "print(data['GRE Score        '].corr(data[\"Ielts Score\"]))\n",
        "print(data['GRE Score        '].corr(data[\"Department\"]))\n",
        "print(data['GRE Score        '].corr(data[\"CGPA\"]))\n",
        "print(data['GRE Score        '].corr(data[\"Project\"]))\n",
        "print(data['GRE Score        '].corr(data[\"Work Experience \"]))\n",
        "print(data['GRE Score        '].corr(data[\"University Ranking\"]))\n",
        "print(data['GRE Score        '].corr(data[\"University rating\"]))\n"
      ],
      "metadata": {
        "colab": {
          "base_uri": "https://localhost:8080/"
        },
        "id": "E454V5OrzM8V",
        "outputId": "cb861f78-23bf-480a-84f3-c6f60a42a3a0"
      },
      "execution_count": 355,
      "outputs": [
        {
          "output_type": "stream",
          "name": "stdout",
          "text": [
            "1.0\n",
            "0.2912214841129166\n",
            "0.2654306908019278\n",
            "-0.1107283346529017\n",
            "0.17148017444025743\n",
            "-0.06860070728083452\n",
            "-0.024366945638970735\n",
            "-0.36602980743619956\n",
            "0.30607369993278455\n"
          ]
        }
      ]
    },
    {
      "cell_type": "code",
      "source": [
        "print(data['Toefl Score '].corr(data[\"GRE Score        \"]))\n",
        "print(data['Toefl Score '].corr(data[\"Toefl Score \"]))\n",
        "print(data['Toefl Score '].corr(data[\"Ielts Score\"]))\n",
        "print(data['Toefl Score '].corr(data[\"Department\"]))\n",
        "print(data['Toefl Score '].corr(data[\"CGPA\"]))\n",
        "print(data['Toefl Score '].corr(data[\"Project\"]))\n",
        "print(data['Toefl Score '].corr(data[\"Work Experience \"]))\n",
        "print(data['Toefl Score '].corr(data[\"University Ranking\"]))\n",
        "print(data['Toefl Score '].corr(data[\"University rating\"]))"
      ],
      "metadata": {
        "colab": {
          "base_uri": "https://localhost:8080/"
        },
        "id": "OmeaLTu2zRex",
        "outputId": "32c73a04-d331-4e35-e511-38684ca77c70"
      },
      "execution_count": 356,
      "outputs": [
        {
          "output_type": "stream",
          "name": "stdout",
          "text": [
            "0.29122148411291665\n",
            "0.9999999999999998\n",
            "0.9662099406903002\n",
            "0.03411722804980353\n",
            "0.26768039654796383\n",
            "0.04071411668725643\n",
            "0.09480087572619597\n",
            "-0.4896829642591143\n",
            "0.4832242135638636\n"
          ]
        }
      ]
    },
    {
      "cell_type": "code",
      "source": [
        "print(data['Ielts Score'].corr(data[\"GRE Score        \"]))\n",
        "print(data['Ielts Score'].corr(data[\"Toefl Score \"]))\n",
        "print(data['Ielts Score'].corr(data[\"Ielts Score\"]))\n",
        "print(data['Ielts Score'].corr(data[\"Department\"]))\n",
        "print(data['Ielts Score'].corr(data[\"CGPA\"]))\n",
        "print(data['Ielts Score'].corr(data[\"Project\"]))\n",
        "print(data['Ielts Score'].corr(data[\"Work Experience \"]))\n",
        "print(data['Ielts Score'].corr(data[\"University Ranking\"]))\n",
        "print(data['Ielts Score'].corr(data[\"University rating\"]))"
      ],
      "metadata": {
        "colab": {
          "base_uri": "https://localhost:8080/"
        },
        "id": "Hnc1pqcQzbw7",
        "outputId": "5eb4cbc3-7074-44e8-ea29-694b55fa18b5"
      },
      "execution_count": 357,
      "outputs": [
        {
          "output_type": "stream",
          "name": "stdout",
          "text": [
            "0.2654306908019278\n",
            "0.9662099406903003\n",
            "1.0\n",
            "0.03283492512372157\n",
            "0.25579859337473704\n",
            "0.04062877309618116\n",
            "0.09712975527694917\n",
            "-0.46466487715080684\n",
            "0.460142346827957\n"
          ]
        }
      ]
    },
    {
      "cell_type": "code",
      "source": [
        "print(data['Department'].corr(data[\"GRE Score        \"]))\n",
        "print(data['Department'].corr(data[\"Toefl Score \"]))\n",
        "print(data['Department'].corr(data[\"Ielts Score\"]))\n",
        "print(data['Department'].corr(data[\"Department\"]))\n",
        "print(data['Department'].corr(data[\"CGPA\"]))\n",
        "print(data['Department'].corr(data[\"Project\"]))\n",
        "print(data['Department'].corr(data[\"Work Experience \"]))\n",
        "print(data['Department'].corr(data[\"University Ranking\"]))\n",
        "print(data['Department'].corr(data[\"University rating\"]))\n"
      ],
      "metadata": {
        "colab": {
          "base_uri": "https://localhost:8080/"
        },
        "id": "Fb10rr37zhBH",
        "outputId": "b79b0ead-4f37-44f7-c7f5-b82740b1ed12"
      },
      "execution_count": 358,
      "outputs": [
        {
          "output_type": "stream",
          "name": "stdout",
          "text": [
            "-0.11072833465290169\n",
            "0.03411722804980353\n",
            "0.03283492512372157\n",
            "1.0\n",
            "-0.1512165235922568\n",
            "-0.045386599604377575\n",
            "-0.06144236965334341\n",
            "0.09232200423048746\n",
            "-0.09359065490137632\n"
          ]
        }
      ]
    },
    {
      "cell_type": "code",
      "source": [
        "print(data['Ielts Score'].corr(data[\"GRE Score        \"]))\n",
        "print(data['Ielts Score'].corr(data[\"Toefl Score \"]))\n",
        "print(data['Ielts Score'].corr(data[\"Ielts Score\"]))\n",
        "print(data['Ielts Score'].corr(data[\"Department\"]))\n",
        "print(data['Ielts Score'].corr(data[\"CGPA\"]))\n",
        "print(data['Ielts Score'].corr(data[\"Project\"]))\n",
        "print(data['Ielts Score'].corr(data[\"Work Experience \"]))\n",
        "print(data['Ielts Score'].corr(data[\"University Ranking\"]))\n",
        "print(data['Ielts Score'].corr(data[\"University rating\"]))\n"
      ],
      "metadata": {
        "colab": {
          "base_uri": "https://localhost:8080/"
        },
        "id": "h7U47ngfzkts",
        "outputId": "fbd74eaf-72ac-4ac4-f753-35f9f16b60bd"
      },
      "execution_count": 359,
      "outputs": [
        {
          "output_type": "stream",
          "name": "stdout",
          "text": [
            "0.2654306908019278\n",
            "0.9662099406903003\n",
            "1.0\n",
            "0.03283492512372157\n",
            "0.25579859337473704\n",
            "0.04062877309618116\n",
            "0.09712975527694917\n",
            "-0.46466487715080684\n",
            "0.460142346827957\n"
          ]
        }
      ]
    },
    {
      "cell_type": "code",
      "source": [
        "print(data['CGPA'].corr(data[\"GRE Score        \"]))\n",
        "print(data['CGPA'].corr(data[\"Toefl Score \"]))\n",
        "print(data['CGPA'].corr(data[\"Ielts Score\"]))\n",
        "print(data['CGPA'].corr(data[\"Department\"]))\n",
        "print(data['CGPA'].corr(data[\"CGPA\"]))\n",
        "print(data['CGPA'].corr(data[\"Project\"]))  # Modified line\n",
        "print(data['CGPA'].corr(data[\"Work Experience \"]))\n",
        "print(data['CGPA'].corr(data[\"University Ranking\"]))\n",
        "print(data['CGPA'].corr(data[\"University rating\"]))\n"
      ],
      "metadata": {
        "colab": {
          "base_uri": "https://localhost:8080/"
        },
        "id": "5VpcdvZEDGdT",
        "outputId": "bbf5b3c1-b47f-489e-d158-5d59183f0ca3"
      },
      "execution_count": 360,
      "outputs": [
        {
          "output_type": "stream",
          "name": "stdout",
          "text": [
            "0.17148017444025743\n",
            "0.26768039654796383\n",
            "0.25579859337473704\n",
            "-0.1512165235922568\n",
            "1.0\n",
            "-0.023292712897346534\n",
            "0.02815082442592124\n",
            "-0.41683220231525786\n",
            "0.3755400079259752\n"
          ]
        }
      ]
    },
    {
      "cell_type": "code",
      "source": [
        "print(data['Project'].corr(data[\"GRE Score        \"]))\n",
        "print(data['Project'].corr(data[\"Toefl Score \"]))\n",
        "print(data['Project'].corr(data[\"Ielts Score\"]))\n",
        "print(data['Project'].corr(data[\"Department\"]))\n",
        "print(data['Project'].corr(data[\"CGPA\"]))\n",
        "print(data['Project'].corr(data[\"Project\"]))\n",
        "print(data['Project'].corr(data[\"Work Experience \"]))\n",
        "print(data['Project'].corr(data[\"University Ranking\"]))\n",
        "print(data['Project'].corr(data[\"University rating\"]))"
      ],
      "metadata": {
        "colab": {
          "base_uri": "https://localhost:8080/"
        },
        "id": "C03vZwKwzuiQ",
        "outputId": "1f58dc39-a204-494f-bee6-afc009db88c1"
      },
      "execution_count": 361,
      "outputs": [
        {
          "output_type": "stream",
          "name": "stdout",
          "text": [
            "-0.06860070728083452\n",
            "0.04071411668725643\n",
            "0.04062877309618117\n",
            "-0.045386599604377575\n",
            "-0.023292712897346534\n",
            "1.0\n",
            "0.28778320545776126\n",
            "0.03496270933868094\n",
            "-0.02652495710880166\n"
          ]
        }
      ]
    },
    {
      "cell_type": "code",
      "source": [
        "print(data['Work Experience '].corr(data[\"GRE Score        \"]))\n",
        "print(data['Work Experience '].corr(data[\"Toefl Score \"]))\n",
        "print(data['Work Experience '].corr(data[\"Ielts Score\"]))\n",
        "print(data['Work Experience '].corr(data[\"Department\"]))\n",
        "print(data['Work Experience '].corr(data[\"CGPA\"]))\n",
        "print(data['Work Experience '].corr(data[\"Project\"]))\n",
        "print(data['Work Experience '].corr(data[\"Work Experience \"]))\n",
        "print(data['Work Experience '].corr(data[\"University Ranking\"]))\n",
        "print(data['Work Experience '].corr(data[\"University rating\"]))\n",
        "\n"
      ],
      "metadata": {
        "colab": {
          "base_uri": "https://localhost:8080/"
        },
        "id": "GV_wDCdizzdv",
        "outputId": "66a756cd-c4fb-4c6c-8b45-99bb756f61a4"
      },
      "execution_count": 362,
      "outputs": [
        {
          "output_type": "stream",
          "name": "stdout",
          "text": [
            "-0.024366945638970735\n",
            "0.09480087572619597\n",
            "0.09712975527694917\n",
            "-0.06144236965334341\n",
            "0.028150824425921237\n",
            "0.2877832054577613\n",
            "0.9999999999999999\n",
            "-0.06713859162749446\n",
            "0.06901625708209766\n"
          ]
        }
      ]
    },
    {
      "cell_type": "code",
      "source": [
        "print(data['University Ranking'].corr(data[\"GRE Score        \"]))\n",
        "print(data['University Ranking'].corr(data[\"Toefl Score \"]))\n",
        "print(data['University Ranking'].corr(data[\"Ielts Score\"]))\n",
        "print(data['University Ranking'].corr(data[\"Department\"]))\n",
        "print(data['University Ranking'].corr(data[\"CGPA\"]))\n",
        "print(data['University Ranking'].corr(data[\"Project\"]))\n",
        "print(data['University Ranking'].corr(data[\"Work Experience \"]))\n",
        "print(data['University Ranking'].corr(data[\"University Ranking\"]))\n",
        "print(data['University Ranking'].corr(data[\"University rating\"]))\n",
        "\n"
      ],
      "metadata": {
        "colab": {
          "base_uri": "https://localhost:8080/"
        },
        "id": "YPEHGL3lz3Z6",
        "outputId": "8ab55664-1109-440f-f566-8cd7276a89e4"
      },
      "execution_count": 363,
      "outputs": [
        {
          "output_type": "stream",
          "name": "stdout",
          "text": [
            "-0.3660298074361996\n",
            "-0.4896829642591143\n",
            "-0.4646648771508069\n",
            "0.09232200423048746\n",
            "-0.41683220231525786\n",
            "0.03496270933868094\n",
            "-0.06713859162749446\n",
            "1.0\n",
            "-0.9507544116075106\n"
          ]
        }
      ]
    },
    {
      "cell_type": "code",
      "source": [
        "print(data['University rating'].corr(data[\"GRE Score        \"]))\n",
        "print(data['University rating'].corr(data[\"Toefl Score \"]))\n",
        "print(data['University rating'].corr(data[\"Ielts Score\"]))\n",
        "print(data['University rating'].corr(data[\"Department\"]))\n",
        "print(data['University rating'].corr(data[\"CGPA\"]))\n",
        "print(data['University rating'].corr(data[\"Project\"]))\n",
        "print(data['University rating'].corr(data[\"Work Experience \"]))\n",
        "print(data['University rating'].corr(data[\"University Ranking\"]))\n",
        "print(data['University rating'].corr(data[\"University rating\"]))"
      ],
      "metadata": {
        "colab": {
          "base_uri": "https://localhost:8080/"
        },
        "id": "NtaE7rNIz7Vb",
        "outputId": "262230b8-39c7-45e6-d110-af51e197ef22"
      },
      "execution_count": 364,
      "outputs": [
        {
          "output_type": "stream",
          "name": "stdout",
          "text": [
            "0.30607369993278455\n",
            "0.4832242135638635\n",
            "0.46014234682795707\n",
            "-0.09359065490137632\n",
            "0.37554000792597525\n",
            "-0.02652495710880166\n",
            "0.06901625708209766\n",
            "-0.9507544116075106\n",
            "1.0\n"
          ]
        }
      ]
    },
    {
      "cell_type": "code",
      "execution_count": 365,
      "metadata": {
        "colab": {
          "base_uri": "https://localhost:8080/"
        },
        "id": "Xykt8CZQYtUO",
        "outputId": "17bd6e88-5463-41bb-b813-283c29901228"
      },
      "outputs": [
        {
          "output_type": "execute_result",
          "data": {
            "text/plain": [
              "((295, 9), (295,))"
            ]
          },
          "metadata": {},
          "execution_count": 365
        }
      ],
      "source": [
        "x=data.drop(['University rating'],axis=1)\n",
        "y=data['University rating']\n",
        "\n",
        "x.shape,y.shape\n"
      ]
    },
    {
      "cell_type": "code",
      "execution_count": 366,
      "metadata": {
        "colab": {
          "base_uri": "https://localhost:8080/"
        },
        "id": "C301sQ8wYUg1",
        "outputId": "d32c8f85-33ec-40ca-c1f1-43067b8b2c72"
      },
      "outputs": [
        {
          "output_type": "execute_result",
          "data": {
            "text/plain": [
              "GRE Score               int64\n",
              "Toefl Score           float64\n",
              "Ielts Score             int64\n",
              "Department              int64\n",
              "CGPA                  float64\n",
              "Research                int64\n",
              "Project                 int64\n",
              "Work Experience       float64\n",
              "University Ranking      int64\n",
              "University rating       int64\n",
              "dtype: object"
            ]
          },
          "metadata": {},
          "execution_count": 366
        }
      ],
      "source": [
        "data.dtypes"
      ]
    },
    {
      "cell_type": "code",
      "execution_count": 367,
      "metadata": {
        "id": "OLxhBUxeZUMU"
      },
      "outputs": [],
      "source": [
        "\n",
        "from sklearn.model_selection import train_test_split\n",
        "from sklearn.preprocessing import StandardScaler\n",
        "train_x,test_x,train_y,test_y=train_test_split(x,y,random_state=42)"
      ]
    },
    {
      "cell_type": "code",
      "execution_count": 368,
      "metadata": {
        "id": "qDU2fj_u4rmZ"
      },
      "outputs": [],
      "source": [
        "scaler = StandardScaler()\n",
        "train_x = scaler.fit_transform(train_x)\n",
        "test_x= scaler.fit_transform(test_x)"
      ]
    },
    {
      "cell_type": "markdown",
      "metadata": {
        "id": "9Vo76x13aY1i"
      },
      "source": [
        "**MODEL SELECTION AND TRAINING**"
      ]
    },
    {
      "cell_type": "code",
      "execution_count": 369,
      "metadata": {
        "id": "HeNWEhuUadYz"
      },
      "outputs": [],
      "source": [
        "from sklearn.linear_model import LinearRegression as LR\n",
        "from sklearn.metrics import mean_absolute_error as mae\n"
      ]
    },
    {
      "cell_type": "code",
      "execution_count": 370,
      "metadata": {
        "id": "FaBvileUauBP"
      },
      "outputs": [],
      "source": [
        "\n",
        "lr=LR()\n"
      ]
    },
    {
      "cell_type": "code",
      "execution_count": 371,
      "metadata": {
        "colab": {
          "base_uri": "https://localhost:8080/",
          "height": 74
        },
        "id": "8XkAtfFVlumf",
        "outputId": "4f9210fd-f4a8-4d7d-9a09-ebe53cd7cb66"
      },
      "outputs": [
        {
          "output_type": "execute_result",
          "data": {
            "text/plain": [
              "LinearRegression()"
            ],
            "text/html": [
              "<style>#sk-container-id-9 {color: black;background-color: white;}#sk-container-id-9 pre{padding: 0;}#sk-container-id-9 div.sk-toggleable {background-color: white;}#sk-container-id-9 label.sk-toggleable__label {cursor: pointer;display: block;width: 100%;margin-bottom: 0;padding: 0.3em;box-sizing: border-box;text-align: center;}#sk-container-id-9 label.sk-toggleable__label-arrow:before {content: \"▸\";float: left;margin-right: 0.25em;color: #696969;}#sk-container-id-9 label.sk-toggleable__label-arrow:hover:before {color: black;}#sk-container-id-9 div.sk-estimator:hover label.sk-toggleable__label-arrow:before {color: black;}#sk-container-id-9 div.sk-toggleable__content {max-height: 0;max-width: 0;overflow: hidden;text-align: left;background-color: #f0f8ff;}#sk-container-id-9 div.sk-toggleable__content pre {margin: 0.2em;color: black;border-radius: 0.25em;background-color: #f0f8ff;}#sk-container-id-9 input.sk-toggleable__control:checked~div.sk-toggleable__content {max-height: 200px;max-width: 100%;overflow: auto;}#sk-container-id-9 input.sk-toggleable__control:checked~label.sk-toggleable__label-arrow:before {content: \"▾\";}#sk-container-id-9 div.sk-estimator input.sk-toggleable__control:checked~label.sk-toggleable__label {background-color: #d4ebff;}#sk-container-id-9 div.sk-label input.sk-toggleable__control:checked~label.sk-toggleable__label {background-color: #d4ebff;}#sk-container-id-9 input.sk-hidden--visually {border: 0;clip: rect(1px 1px 1px 1px);clip: rect(1px, 1px, 1px, 1px);height: 1px;margin: -1px;overflow: hidden;padding: 0;position: absolute;width: 1px;}#sk-container-id-9 div.sk-estimator {font-family: monospace;background-color: #f0f8ff;border: 1px dotted black;border-radius: 0.25em;box-sizing: border-box;margin-bottom: 0.5em;}#sk-container-id-9 div.sk-estimator:hover {background-color: #d4ebff;}#sk-container-id-9 div.sk-parallel-item::after {content: \"\";width: 100%;border-bottom: 1px solid gray;flex-grow: 1;}#sk-container-id-9 div.sk-label:hover label.sk-toggleable__label {background-color: #d4ebff;}#sk-container-id-9 div.sk-serial::before {content: \"\";position: absolute;border-left: 1px solid gray;box-sizing: border-box;top: 0;bottom: 0;left: 50%;z-index: 0;}#sk-container-id-9 div.sk-serial {display: flex;flex-direction: column;align-items: center;background-color: white;padding-right: 0.2em;padding-left: 0.2em;position: relative;}#sk-container-id-9 div.sk-item {position: relative;z-index: 1;}#sk-container-id-9 div.sk-parallel {display: flex;align-items: stretch;justify-content: center;background-color: white;position: relative;}#sk-container-id-9 div.sk-item::before, #sk-container-id-9 div.sk-parallel-item::before {content: \"\";position: absolute;border-left: 1px solid gray;box-sizing: border-box;top: 0;bottom: 0;left: 50%;z-index: -1;}#sk-container-id-9 div.sk-parallel-item {display: flex;flex-direction: column;z-index: 1;position: relative;background-color: white;}#sk-container-id-9 div.sk-parallel-item:first-child::after {align-self: flex-end;width: 50%;}#sk-container-id-9 div.sk-parallel-item:last-child::after {align-self: flex-start;width: 50%;}#sk-container-id-9 div.sk-parallel-item:only-child::after {width: 0;}#sk-container-id-9 div.sk-dashed-wrapped {border: 1px dashed gray;margin: 0 0.4em 0.5em 0.4em;box-sizing: border-box;padding-bottom: 0.4em;background-color: white;}#sk-container-id-9 div.sk-label label {font-family: monospace;font-weight: bold;display: inline-block;line-height: 1.2em;}#sk-container-id-9 div.sk-label-container {text-align: center;}#sk-container-id-9 div.sk-container {/* jupyter's `normalize.less` sets `[hidden] { display: none; }` but bootstrap.min.css set `[hidden] { display: none !important; }` so we also need the `!important` here to be able to override the default hidden behavior on the sphinx rendered scikit-learn.org. See: https://github.com/scikit-learn/scikit-learn/issues/21755 */display: inline-block !important;position: relative;}#sk-container-id-9 div.sk-text-repr-fallback {display: none;}</style><div id=\"sk-container-id-9\" class=\"sk-top-container\"><div class=\"sk-text-repr-fallback\"><pre>LinearRegression()</pre><b>In a Jupyter environment, please rerun this cell to show the HTML representation or trust the notebook. <br />On GitHub, the HTML representation is unable to render, please try loading this page with nbviewer.org.</b></div><div class=\"sk-container\" hidden><div class=\"sk-item\"><div class=\"sk-estimator sk-toggleable\"><input class=\"sk-toggleable__control sk-hidden--visually\" id=\"sk-estimator-id-9\" type=\"checkbox\" checked><label for=\"sk-estimator-id-9\" class=\"sk-toggleable__label sk-toggleable__label-arrow\">LinearRegression</label><div class=\"sk-toggleable__content\"><pre>LinearRegression()</pre></div></div></div></div></div>"
            ]
          },
          "metadata": {},
          "execution_count": 371
        }
      ],
      "source": [
        "\n",
        "lr.fit(train_x,train_y)"
      ]
    },
    {
      "cell_type": "code",
      "execution_count": 372,
      "metadata": {
        "colab": {
          "base_uri": "https://localhost:8080/"
        },
        "id": "DlP1nAQol3Cs",
        "outputId": "5bdd6c16-32c7-4ca1-ac6d-01263b9413c4"
      },
      "outputs": [
        {
          "output_type": "stream",
          "name": "stdout",
          "text": [
            "train mean absolute error for training data  0.2678103685397895\n"
          ]
        }
      ],
      "source": [
        "train_predict=lr.predict(train_x)\n",
        "k=mae(train_predict,train_y)\n",
        "print('train mean absolute error for training data ', k)"
      ]
    },
    {
      "cell_type": "code",
      "execution_count": 373,
      "metadata": {
        "colab": {
          "base_uri": "https://localhost:8080/"
        },
        "id": "ouRoZk4amLyg",
        "outputId": "84f9bb11-1bcc-464d-e6d4-785dce7b9800"
      },
      "outputs": [
        {
          "output_type": "stream",
          "name": "stdout",
          "text": [
            "test mean absolute error for training data  0.269069242927532\n"
          ]
        }
      ],
      "source": [
        "test_predict=lr.predict(test_x)\n",
        "k=mae(test_predict,test_y)\n",
        "print('test mean absolute error for training data ', k)"
      ]
    },
    {
      "cell_type": "markdown",
      "metadata": {
        "id": "hk2R-1Ub1qFe"
      },
      "source": [
        "**MODEL EVALUATION**"
      ]
    },
    {
      "cell_type": "code",
      "execution_count": 374,
      "metadata": {
        "id": "N8XYjsjZ1tE7"
      },
      "outputs": [],
      "source": [
        "from sklearn.metrics import mean_squared_error"
      ]
    },
    {
      "cell_type": "code",
      "execution_count": 375,
      "metadata": {
        "colab": {
          "base_uri": "https://localhost:8080/"
        },
        "id": "PNdEKa7_1zN6",
        "outputId": "afa0cbaf-a433-42ba-8845-9a33ab078440"
      },
      "outputs": [
        {
          "output_type": "stream",
          "name": "stdout",
          "text": [
            "0.3006224393355957\n"
          ]
        }
      ],
      "source": [
        "pred_train=lr.predict(train_x)\n",
        "train_score=np.sqrt(mean_squared_error(train_y,pred_train))\n",
        "print(train_score)"
      ]
    },
    {
      "cell_type": "code",
      "execution_count": 376,
      "metadata": {
        "colab": {
          "base_uri": "https://localhost:8080/"
        },
        "id": "MG-xuMgm2AzW",
        "outputId": "7b4a1a6a-c61e-4df3-aae2-34f071646ca6"
      },
      "outputs": [
        {
          "output_type": "stream",
          "name": "stdout",
          "text": [
            "0.3140018136324886\n"
          ]
        }
      ],
      "source": [
        "pred_test=lr.predict(test_x)\n",
        "test_score=np.sqrt(mean_squared_error(test_predict,test_y))\n",
        "print(test_score)"
      ]
    },
    {
      "cell_type": "code",
      "execution_count": 377,
      "metadata": {
        "colab": {
          "base_uri": "https://localhost:8080/"
        },
        "id": "3iuYgfj-1iBc",
        "outputId": "3e72c706-78c6-461e-fc45-f4bcbff81c4d"
      },
      "outputs": [
        {
          "output_type": "stream",
          "name": "stdout",
          "text": [
            "training score : 0.3006224393355957\n",
            "validation score : 0.3140018136324886\n"
          ]
        }
      ],
      "source": [
        "print('training score :',train_score)\n",
        "print('validation score :',test_score)"
      ]
    },
    {
      "cell_type": "code",
      "execution_count": 378,
      "metadata": {
        "colab": {
          "base_uri": "https://localhost:8080/"
        },
        "id": "VPHENyFY2fb9",
        "outputId": "955d509c-ae32-422f-ae25-d911a612f0f1"
      },
      "outputs": [
        {
          "output_type": "stream",
          "name": "stdout",
          "text": [
            "accuracy on train set: 90.72621804719302\n",
            "accuracy on test set: 90.6199108240174\n"
          ]
        }
      ],
      "source": [
        "test=lr.score(test_x,test_y)*100\n",
        "train=lr.score(train_x,train_y)*100\n",
        "print(\"accuracy on train set:\",train)\n",
        "print(\"accuracy on test set:\",test)"
      ]
    },
    {
      "cell_type": "markdown",
      "metadata": {
        "id": "4pjrjos02A8x"
      },
      "source": [
        "**Decesion Tree Regressor**"
      ]
    },
    {
      "cell_type": "code",
      "execution_count": 379,
      "metadata": {
        "colab": {
          "base_uri": "https://localhost:8080/"
        },
        "id": "K_8u6R0E2Nrh",
        "outputId": "f6ebfac6-6bea-4685-ffd3-5571aa00d1aa"
      },
      "outputs": [
        {
          "output_type": "execute_result",
          "data": {
            "text/plain": [
              "96.14315496872828"
            ]
          },
          "metadata": {},
          "execution_count": 379
        }
      ],
      "source": [
        "from sklearn.tree import DecisionTreeRegressor\n",
        "dec_tree = DecisionTreeRegressor(random_state=42)\n",
        "dec_tree.fit(train_x, train_y)\n",
        "y_predict = dec_tree.predict(test_x)\n",
        "dec_tree_score = (dec_tree.score(test_x, test_y))*100\n",
        "dec_tree_score"
      ]
    },
    {
      "cell_type": "markdown",
      "source": [],
      "metadata": {
        "id": "d2ykdI68SnWz"
      }
    },
    {
      "cell_type": "markdown",
      "metadata": {
        "id": "a-bchVWV2zKg"
      },
      "source": [
        "**Random Forest**"
      ]
    },
    {
      "cell_type": "code",
      "execution_count": 380,
      "metadata": {
        "colab": {
          "base_uri": "https://localhost:8080/"
        },
        "id": "wEi864Iz29uZ",
        "outputId": "1bc1d98f-9aa0-43ee-d3f3-9da7b5010eb4"
      },
      "outputs": [
        {
          "output_type": "execute_result",
          "data": {
            "text/plain": [
              "96.09438659767171"
            ]
          },
          "metadata": {},
          "execution_count": 380
        }
      ],
      "source": [
        "from sklearn.ensemble import RandomForestRegressor\n",
        "forest = RandomForestRegressor(n_estimators=110,max_depth=6,random_state=0)\n",
        "forest.fit(train_x, train_y)\n",
        "y_predict = forest.predict(test_x)\n",
        "forest_score = (forest.score(test_x, test_y))*100\n",
        "forest_score"
      ]
    },
    {
      "cell_type": "code",
      "source": [
        "import matplotlib.pyplot as plt\n",
        "import pandas as pd\n",
        "\n",
        "\n",
        "selected_features = ['GRE Score', 'Toefl Score', 'Ielts Score', 'Department', 'CGPA', 'Research', 'Project', 'Work Experience', 'University Ranking', 'University rating']\n",
        "\n",
        "data.columns = data.columns.str.strip()\n",
        "\n",
        "\n",
        "fig, axes = plt.subplots(nrows=2, ncols=5, figsize=(15, 8))\n",
        "\n",
        "\n",
        "axes = axes.flatten()\n",
        "\n",
        "\n",
        "for i, feature in enumerate(selected_features):\n",
        "    data[feature].plot(kind='hist', ax=axes[i], bins=20, edgecolor='black', color='skyblue')\n",
        "    axes[i].set_title(f'Histogram of {feature}')\n",
        "    axes[i].set_xlabel(feature)\n",
        "    axes[i].set_ylabel('Frequency')\n",
        "\n",
        "\n",
        "plt.tight_layout()\n",
        "\n",
        "\n",
        "plt.show()\n"
      ],
      "metadata": {
        "colab": {
          "base_uri": "https://localhost:8080/",
          "height": 737
        },
        "id": "wDRqEc74JMGr",
        "outputId": "9f5b7648-5bca-4fdd-c72c-e3af4922cc9a"
      },
      "execution_count": 381,
      "outputs": [
        {
          "output_type": "display_data",
          "data": {
            "text/plain": [
              "<Figure size 1500x800 with 10 Axes>"
            ],
            "image/png": "[encoded data removed]"
          },
          "metadata": {}
        }
      ]
    }
  ],
  "metadata": {
    "colab": {
      "provenance": []
    },
    "kernelspec": {
      "display_name": "Python 3",
      "name": "python3"
    },
    "language_info": {
      "name": "python"
    }
  },
  "nbformat": 4,
  "nbformat_minor": 0
}